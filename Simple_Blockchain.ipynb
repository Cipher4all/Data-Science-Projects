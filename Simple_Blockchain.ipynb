{
  "nbformat": 4,
  "nbformat_minor": 0,
  "metadata": {
    "colab": {
      "name": "Simple Blockchain",
      "version": "0.3.2",
      "provenance": [],
      "include_colab_link": true
    },
    "kernelspec": {
      "name": "python3",
      "display_name": "Python 3"
    },
    "accelerator": "GPU"
  },
  "cells": [
    {
      "cell_type": "markdown",
      "metadata": {
        "id": "view-in-github",
        "colab_type": "text"
      },
      "source": [
        "<a href=\"https://colab.research.google.com/github/Vir123/gamegeeks/blob/master/Simple_Blockchain.ipynb\" target=\"_parent\"><img src=\"https://colab.research.google.com/assets/colab-badge.svg\" alt=\"Open In Colab\"/></a>"
      ]
    },
    {
      "cell_type": "markdown",
      "metadata": {
        "id": "anSDqnIIIh5O",
        "colab_type": "text"
      },
      "source": [
        "**STEP 1**"
      ]
    },
    {
      "cell_type": "code",
      "metadata": {
        "id": "NT2FD3DwIoQK",
        "colab_type": "code",
        "colab": {}
      },
      "source": [
        "#import dependencies\n",
        "import datetime\n",
        "import hashlib"
      ],
      "execution_count": 0,
      "outputs": []
    },
    {
      "cell_type": "code",
      "metadata": {
        "id": "ggbKP48aI-iI",
        "colab_type": "code",
        "colab": {}
      },
      "source": [
        "class Block:\n",
        "  blockNo = 0\n",
        "  data = None\n",
        "  next = None\n",
        "  hash = None\n",
        "  nonce = 0\n",
        "  previous_hash = 0x0\n",
        "  timestamp = datetime.datetime.now()\n",
        "  \n",
        "  #We initialize a block by providing some data to it\n",
        "  def __init__(self,data):\n",
        "    self.data = data\n",
        "  #Define a hash library\n",
        "  def hash(self):\n",
        "    h = hashlib.sha256()\n",
        "    h.update(\n",
        "    str(self.nonce).encode('utf-8') +\n",
        "    str(self.data).encode('utf-8') + \n",
        "    str(self.previous_hash).encode('utf-8') + \n",
        "    str(self.timestamp).encode('utf-8') + \n",
        "    str(self.blockNo).encode('utf-8')\n",
        "    )\n",
        "    return h.hexdigest()\n",
        "  \n",
        "  def __str__(self):\n",
        "    #print out the block hash\n",
        "    return \"Block Hash:\" + str(self.hash()) + \"\\nBlockNo.:\" + str(self.blockNo) + \"\\nBlock Data: \" + str(self.data) + \"\\nHashes: \" + str(self.nonce) + \"\\n--------------\""
      ],
      "execution_count": 0,
      "outputs": []
    },
    {
      "cell_type": "code",
      "metadata": {
        "id": "4eHHuTYUMWn2",
        "colab_type": "code",
        "colab": {}
      },
      "source": [
        "#Create blockchain\n",
        "class Blockchain:\n",
        "  maxNonce = 2**32\n",
        "  diff = 20\n",
        "  target = 2 ** (256-diff)\n",
        "  block = Block(\"Genesis\")\n",
        "  \n",
        "  head = block\n",
        "  \n",
        "  def add(self, block):\n",
        "    block.previous_hash = self.block.hash()\n",
        "    block.blockNo = self.block.blockNo + 1\n",
        "    self.block.next = block\n",
        "    self.block = self.block.next\n",
        "    \n",
        "  def mine(self, block):\n",
        "    for n in range(self.maxNonce):\n",
        "      if int(block.hash(), 16) <= self.target:\n",
        "        self.add(block)\n",
        "        print(block)\n",
        "        break\n",
        "      else:\n",
        "        block.nonce += 1"
      ],
      "execution_count": 0,
      "outputs": []
    },
    {
      "cell_type": "code",
      "metadata": {
        "id": "vNJUUu7lQl__",
        "colab_type": "code",
        "colab": {
          "base_uri": "https://localhost:8080/",
          "height": 1000
        },
        "outputId": "9283bfc2-e0cf-4614-fe2e-bdb7cb5f217b"
      },
      "source": [
        "blockchain = Blockchain()\n",
        "for n in range(10):\n",
        "  blockchain.mine(Block(\"Block\" + str(n+1)))\n",
        "  \n",
        "  while blockchain.head != None:\n",
        "    print(blockchain.head)\n",
        "    blockchain.head = blockchain.head.next"
      ],
      "execution_count": 24,
      "outputs": [
        {
          "output_type": "stream",
          "text": [
            "Block Hash:df1d2b8cd855998fd51fa76efe936d9a1faf5490a147ffd877b03c3ea582ebfd\n",
            "BlockNo.:1\n",
            "Block Data: Block1\n",
            "Hashes: 232245\n",
            "--------------\n",
            "Block Hash:79c322c9707a4568bd958aae856fec2e028605f96284bf9ef3d5eda3d83ee93c\n",
            "BlockNo.:0\n",
            "Block Data: Genesis\n",
            "Hashes: 0\n",
            "--------------\n",
            "Block Hash:df1d2b8cd855998fd51fa76efe936d9a1faf5490a147ffd877b03c3ea582ebfd\n",
            "BlockNo.:1\n",
            "Block Data: Block1\n",
            "Hashes: 232245\n",
            "--------------\n",
            "Block Hash:569ec4337e8fb16c701bc52679da62fbd34c4b3f444e557fd6fa9718219b374e\n",
            "BlockNo.:2\n",
            "Block Data: Block2\n",
            "Hashes: 244895\n",
            "--------------\n",
            "Block Hash:4e60bb15add7b40c34f72882fdd3ca32fe04a02b0be5c5cbe271873d42a205d5\n",
            "BlockNo.:3\n",
            "Block Data: Block3\n",
            "Hashes: 626389\n",
            "--------------\n",
            "Block Hash:33ab38b84688064994d175905ff172a38fe895fc2d661bd1b2a5335370df09a9\n",
            "BlockNo.:4\n",
            "Block Data: Block4\n",
            "Hashes: 62482\n",
            "--------------\n",
            "Block Hash:fcebe57d8df27d38c806d3483f6515e54459f138bcd9c539258f5725e89b0fe8\n",
            "BlockNo.:5\n",
            "Block Data: Block5\n",
            "Hashes: 286500\n",
            "--------------\n",
            "Block Hash:9abde2ff2a6ee74b102f896e9d90d086765766eab841da2c1212a04cb2a2edf4\n",
            "BlockNo.:6\n",
            "Block Data: Block6\n",
            "Hashes: 57727\n",
            "--------------\n",
            "Block Hash:acaebae7b2192134c839efa5ce23c45ea76c36d4ff1ff3051799a0e16da28d2e\n",
            "BlockNo.:7\n",
            "Block Data: Block7\n",
            "Hashes: 357354\n",
            "--------------\n",
            "Block Hash:798a8e5320a33a827c09a497d4caa8a4b3a77da800a8cf385f2eb655568c79df\n",
            "BlockNo.:8\n",
            "Block Data: Block8\n",
            "Hashes: 552290\n",
            "--------------\n",
            "Block Hash:243f11db4086b43907653d960f3a405f0795142b9de7b86d43ee9e97af8d9565\n",
            "BlockNo.:9\n",
            "Block Data: Block9\n",
            "Hashes: 2043690\n",
            "--------------\n",
            "Block Hash:bb3410ca917236aec2689f914ef25bfa1213fa48456eec91afeb3c4351eb0716\n",
            "BlockNo.:10\n",
            "Block Data: Block10\n",
            "Hashes: 62443\n",
            "--------------\n"
          ],
          "name": "stdout"
        }
      ]
    },
    {
      "cell_type": "code",
      "metadata": {
        "id": "RBEk-HzASpmf",
        "colab_type": "code",
        "colab": {}
      },
      "source": [
        ""
      ],
      "execution_count": 0,
      "outputs": []
    }
  ]
}