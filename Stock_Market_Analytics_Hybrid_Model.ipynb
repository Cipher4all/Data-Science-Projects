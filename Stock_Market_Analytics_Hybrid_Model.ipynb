{
  "nbformat": 4,
  "nbformat_minor": 0,
  "metadata": {
    "colab": {
      "name": "Stock Market Analytics - Hybrid Model.ipynb",
      "provenance": [],
      "collapsed_sections": [],
      "authorship_tag": "ABX9TyNt+HeJHGy3krr6mXOPJ9lw",
      "include_colab_link": true
    },
    "kernelspec": {
      "name": "python3",
      "display_name": "Python 3"
    },
    "language_info": {
      "name": "python"
    },
    "accelerator": "TPU"
  },
  "cells": [
    {
      "cell_type": "markdown",
      "metadata": {
        "id": "view-in-github",
        "colab_type": "text"
      },
      "source": [
        "<a href=\"https://colab.research.google.com/github/Cipher4all/Data-Science-Projects/blob/master/Stock_Market_Analytics_Hybrid_Model.ipynb\" target=\"_parent\"><img src=\"https://colab.research.google.com/assets/colab-badge.svg\" alt=\"Open In Colab\"/></a>"
      ]
    },
    {
      "cell_type": "code",
      "metadata": {
        "colab": {
          "base_uri": "https://localhost:8080/"
        },
        "id": "CgN_Q_I9z9eM",
        "outputId": "a2767029-94d2-4b48-d378-5ff3d7ffa23f"
      },
      "source": [
        "import pandas as pd\n",
        "import numpy as np\n",
        "from math import sqrt\n",
        "import matplotlib.pyplot as plt\n",
        "from matplotlib import pyplot\n",
        "import seaborn as sns\n",
        "sns.set_style('whitegrid')\n",
        "plt.style.use('fivethirtyeight')\n",
        "%matplotlib inline\n",
        "import nltk\n",
        "import re\n",
        "from nltk.corpus import stopwords\n",
        "nltk.download('stopwords')\n",
        "nltk.download('vader_lexicon')\n",
        "from textblob import TextBlob\n",
        "from nltk.sentiment.vader import SentimentIntensityAnalyzer\n",
        "from nltk.stem.porter import PorterStemmer\n",
        "ps = PorterStemmer()\n",
        "from sklearn.metrics import mean_squared_error\n",
        "from sklearn.model_selection import train_test_split\n",
        "from sklearn.preprocessing import MinMaxScaler"
      ],
      "execution_count": null,
      "outputs": [
        {
          "output_type": "stream",
          "text": [
            "[nltk_data] Downloading package stopwords to /root/nltk_data...\n",
            "[nltk_data]   Package stopwords is already up-to-date!\n",
            "[nltk_data] Downloading package vader_lexicon to /root/nltk_data...\n",
            "[nltk_data]   Package vader_lexicon is already up-to-date!\n"
          ],
          "name": "stdout"
        }
      ]
    },
    {
      "cell_type": "code",
      "metadata": {
        "colab": {
          "base_uri": "https://localhost:8080/"
        },
        "id": "LESId9VxC6E-",
        "outputId": "952b5d2c-3728-4666-8e13-9338d632b330"
      },
      "source": [
        "!pip install yfinance"
      ],
      "execution_count": null,
      "outputs": [
        {
          "output_type": "stream",
          "text": [
            "Requirement already satisfied: yfinance in /usr/local/lib/python3.7/dist-packages (0.1.63)\n",
            "Requirement already satisfied: lxml>=4.5.1 in /usr/local/lib/python3.7/dist-packages (from yfinance) (4.6.3)\n",
            "Requirement already satisfied: requests>=2.20 in /usr/local/lib/python3.7/dist-packages (from yfinance) (2.23.0)\n",
            "Requirement already satisfied: pandas>=0.24 in /usr/local/lib/python3.7/dist-packages (from yfinance) (1.1.5)\n",
            "Requirement already satisfied: multitasking>=0.0.7 in /usr/local/lib/python3.7/dist-packages (from yfinance) (0.0.9)\n",
            "Requirement already satisfied: numpy>=1.15 in /usr/local/lib/python3.7/dist-packages (from yfinance) (1.19.5)\n",
            "Requirement already satisfied: python-dateutil>=2.7.3 in /usr/local/lib/python3.7/dist-packages (from pandas>=0.24->yfinance) (2.8.2)\n",
            "Requirement already satisfied: pytz>=2017.2 in /usr/local/lib/python3.7/dist-packages (from pandas>=0.24->yfinance) (2018.9)\n",
            "Requirement already satisfied: six>=1.5 in /usr/local/lib/python3.7/dist-packages (from python-dateutil>=2.7.3->pandas>=0.24->yfinance) (1.15.0)\n",
            "Requirement already satisfied: urllib3!=1.25.0,!=1.25.1,<1.26,>=1.21.1 in /usr/local/lib/python3.7/dist-packages (from requests>=2.20->yfinance) (1.24.3)\n",
            "Requirement already satisfied: certifi>=2017.4.17 in /usr/local/lib/python3.7/dist-packages (from requests>=2.20->yfinance) (2021.5.30)\n",
            "Requirement already satisfied: chardet<4,>=3.0.2 in /usr/local/lib/python3.7/dist-packages (from requests>=2.20->yfinance) (3.0.4)\n",
            "Requirement already satisfied: idna<3,>=2.5 in /usr/local/lib/python3.7/dist-packages (from requests>=2.20->yfinance) (2.10)\n"
          ],
          "name": "stdout"
        }
      ]
    },
    {
      "cell_type": "code",
      "metadata": {
        "colab": {
          "base_uri": "https://localhost:8080/"
        },
        "id": "X1e1BOjR03Vu",
        "outputId": "a3549b81-92ac-4061-8958-19bf10ee5f30"
      },
      "source": [
        "import yfinance\n",
        "start = '2020-04-29'\n",
        "end = '2021-04-29'\n",
        "df_prices = pd.DataFrame(yfinance.download('^BSESN', start, end))\n",
        "df_prices.to_csv('prices.csv')"
      ],
      "execution_count": null,
      "outputs": [
        {
          "output_type": "stream",
          "text": [
            "\r[*********************100%***********************]  1 of 1 completed\n"
          ],
          "name": "stdout"
        }
      ]
    },
    {
      "cell_type": "markdown",
      "metadata": {
        "id": "7NqPCWNK08H4"
      },
      "source": [
        "# New Section"
      ]
    },
    {
      "cell_type": "code",
      "metadata": {
        "colab": {
          "base_uri": "https://localhost:8080/",
          "height": 417
        },
        "id": "d-_LDPyV2R9O",
        "outputId": "eeda9f2c-535a-4145-955e-53cbc034bd46"
      },
      "source": [
        "df = pd.read_csv('prices.csv')\n",
        "df"
      ],
      "execution_count": null,
      "outputs": [
        {
          "output_type": "execute_result",
          "data": {
            "text/html": [
              "<div>\n",
              "<style scoped>\n",
              "    .dataframe tbody tr th:only-of-type {\n",
              "        vertical-align: middle;\n",
              "    }\n",
              "\n",
              "    .dataframe tbody tr th {\n",
              "        vertical-align: top;\n",
              "    }\n",
              "\n",
              "    .dataframe thead th {\n",
              "        text-align: right;\n",
              "    }\n",
              "</style>\n",
              "<table border=\"1\" class=\"dataframe\">\n",
              "  <thead>\n",
              "    <tr style=\"text-align: right;\">\n",
              "      <th></th>\n",
              "      <th>Date</th>\n",
              "      <th>Open</th>\n",
              "      <th>High</th>\n",
              "      <th>Low</th>\n",
              "      <th>Close</th>\n",
              "      <th>Adj Close</th>\n",
              "      <th>Volume</th>\n",
              "    </tr>\n",
              "  </thead>\n",
              "  <tbody>\n",
              "    <tr>\n",
              "      <th>0</th>\n",
              "      <td>2020-04-29</td>\n",
              "      <td>32311.039062</td>\n",
              "      <td>32897.589844</td>\n",
              "      <td>32171.650391</td>\n",
              "      <td>32720.160156</td>\n",
              "      <td>32720.160156</td>\n",
              "      <td>16000</td>\n",
              "    </tr>\n",
              "    <tr>\n",
              "      <th>1</th>\n",
              "      <td>2020-04-30</td>\n",
              "      <td>33381.191406</td>\n",
              "      <td>33887.250000</td>\n",
              "      <td>33354.929688</td>\n",
              "      <td>33717.621094</td>\n",
              "      <td>33717.621094</td>\n",
              "      <td>21100</td>\n",
              "    </tr>\n",
              "    <tr>\n",
              "      <th>2</th>\n",
              "      <td>2020-05-04</td>\n",
              "      <td>32748.140625</td>\n",
              "      <td>32748.140625</td>\n",
              "      <td>31632.019531</td>\n",
              "      <td>31715.349609</td>\n",
              "      <td>31715.349609</td>\n",
              "      <td>18300</td>\n",
              "    </tr>\n",
              "    <tr>\n",
              "      <th>3</th>\n",
              "      <td>2020-05-05</td>\n",
              "      <td>32182.900391</td>\n",
              "      <td>32264.000000</td>\n",
              "      <td>31403.570312</td>\n",
              "      <td>31453.509766</td>\n",
              "      <td>31453.509766</td>\n",
              "      <td>19200</td>\n",
              "    </tr>\n",
              "    <tr>\n",
              "      <th>4</th>\n",
              "      <td>2020-05-06</td>\n",
              "      <td>31577.630859</td>\n",
              "      <td>31970.839844</td>\n",
              "      <td>31158.750000</td>\n",
              "      <td>31685.750000</td>\n",
              "      <td>31685.750000</td>\n",
              "      <td>19200</td>\n",
              "    </tr>\n",
              "    <tr>\n",
              "      <th>...</th>\n",
              "      <td>...</td>\n",
              "      <td>...</td>\n",
              "      <td>...</td>\n",
              "      <td>...</td>\n",
              "      <td>...</td>\n",
              "      <td>...</td>\n",
              "      <td>...</td>\n",
              "    </tr>\n",
              "    <tr>\n",
              "      <th>243</th>\n",
              "      <td>2021-04-22</td>\n",
              "      <td>47501.710938</td>\n",
              "      <td>48143.160156</td>\n",
              "      <td>47204.500000</td>\n",
              "      <td>48080.671875</td>\n",
              "      <td>48080.671875</td>\n",
              "      <td>15800</td>\n",
              "    </tr>\n",
              "    <tr>\n",
              "      <th>244</th>\n",
              "      <td>2021-04-23</td>\n",
              "      <td>47863.808594</td>\n",
              "      <td>48265.390625</td>\n",
              "      <td>47669.550781</td>\n",
              "      <td>47878.449219</td>\n",
              "      <td>47878.449219</td>\n",
              "      <td>11200</td>\n",
              "    </tr>\n",
              "    <tr>\n",
              "      <th>245</th>\n",
              "      <td>2021-04-26</td>\n",
              "      <td>48197.371094</td>\n",
              "      <td>48667.980469</td>\n",
              "      <td>48152.238281</td>\n",
              "      <td>48386.511719</td>\n",
              "      <td>48386.511719</td>\n",
              "      <td>15200</td>\n",
              "    </tr>\n",
              "    <tr>\n",
              "      <th>246</th>\n",
              "      <td>2021-04-27</td>\n",
              "      <td>48424.078125</td>\n",
              "      <td>49009.261719</td>\n",
              "      <td>48399.531250</td>\n",
              "      <td>48944.140625</td>\n",
              "      <td>48944.140625</td>\n",
              "      <td>10100</td>\n",
              "    </tr>\n",
              "    <tr>\n",
              "      <th>247</th>\n",
              "      <td>2021-04-28</td>\n",
              "      <td>49066.640625</td>\n",
              "      <td>49801.480469</td>\n",
              "      <td>49066.640625</td>\n",
              "      <td>49733.839844</td>\n",
              "      <td>49733.839844</td>\n",
              "      <td>14300</td>\n",
              "    </tr>\n",
              "  </tbody>\n",
              "</table>\n",
              "<p>248 rows × 7 columns</p>\n",
              "</div>"
            ],
            "text/plain": [
              "           Date          Open          High  ...         Close     Adj Close  Volume\n",
              "0    2020-04-29  32311.039062  32897.589844  ...  32720.160156  32720.160156   16000\n",
              "1    2020-04-30  33381.191406  33887.250000  ...  33717.621094  33717.621094   21100\n",
              "2    2020-05-04  32748.140625  32748.140625  ...  31715.349609  31715.349609   18300\n",
              "3    2020-05-05  32182.900391  32264.000000  ...  31453.509766  31453.509766   19200\n",
              "4    2020-05-06  31577.630859  31970.839844  ...  31685.750000  31685.750000   19200\n",
              "..          ...           ...           ...  ...           ...           ...     ...\n",
              "243  2021-04-22  47501.710938  48143.160156  ...  48080.671875  48080.671875   15800\n",
              "244  2021-04-23  47863.808594  48265.390625  ...  47878.449219  47878.449219   11200\n",
              "245  2021-04-26  48197.371094  48667.980469  ...  48386.511719  48386.511719   15200\n",
              "246  2021-04-27  48424.078125  49009.261719  ...  48944.140625  48944.140625   10100\n",
              "247  2021-04-28  49066.640625  49801.480469  ...  49733.839844  49733.839844   14300\n",
              "\n",
              "[248 rows x 7 columns]"
            ]
          },
          "metadata": {},
          "execution_count": 133
        }
      ]
    },
    {
      "cell_type": "code",
      "metadata": {
        "colab": {
          "base_uri": "https://localhost:8080/",
          "height": 417
        },
        "id": "RXfylLj72XwR",
        "outputId": "28056030-b4f7-44d3-ad71-337caec04ea1"
      },
      "source": [
        "cols = ['Date','Category','News']\n",
        "df_news = pd.read_csv('/content/India-news-headline.csv.txt', engine='python', names=cols)\n",
        "df_news = df_news.dropna(axis = 0, how ='any') \n",
        "df_news"
      ],
      "execution_count": null,
      "outputs": [
        {
          "output_type": "execute_result",
          "data": {
            "text/html": [
              "<div>\n",
              "<style scoped>\n",
              "    .dataframe tbody tr th:only-of-type {\n",
              "        vertical-align: middle;\n",
              "    }\n",
              "\n",
              "    .dataframe tbody tr th {\n",
              "        vertical-align: top;\n",
              "    }\n",
              "\n",
              "    .dataframe thead th {\n",
              "        text-align: right;\n",
              "    }\n",
              "</style>\n",
              "<table border=\"1\" class=\"dataframe\">\n",
              "  <thead>\n",
              "    <tr style=\"text-align: right;\">\n",
              "      <th></th>\n",
              "      <th>Date</th>\n",
              "      <th>Category</th>\n",
              "      <th>News</th>\n",
              "    </tr>\n",
              "  </thead>\n",
              "  <tbody>\n",
              "    <tr>\n",
              "      <th>0</th>\n",
              "      <td>20200101</td>\n",
              "      <td>life-style.events</td>\n",
              "      <td>Happy New Year 2020: Images; Quotes; Wishes; M...</td>\n",
              "    </tr>\n",
              "    <tr>\n",
              "      <th>1</th>\n",
              "      <td>20200101</td>\n",
              "      <td>city.bhubaneswar</td>\n",
              "      <td>Bone-clling cold wavecontinues to sweep state</td>\n",
              "    </tr>\n",
              "    <tr>\n",
              "      <th>2</th>\n",
              "      <td>20200101</td>\n",
              "      <td>city.hyderabad</td>\n",
              "      <td>T gained 163 sq km forest cover</td>\n",
              "    </tr>\n",
              "    <tr>\n",
              "      <th>3</th>\n",
              "      <td>20200101</td>\n",
              "      <td>city.hyderabad</td>\n",
              "      <td>Draft electoral rolls published</td>\n",
              "    </tr>\n",
              "    <tr>\n",
              "      <th>4</th>\n",
              "      <td>20200101</td>\n",
              "      <td>city.koc</td>\n",
              "      <td>Invasive species increasing in Kerala's core f...</td>\n",
              "    </tr>\n",
              "    <tr>\n",
              "      <th>...</th>\n",
              "      <td>...</td>\n",
              "      <td>...</td>\n",
              "      <td>...</td>\n",
              "    </tr>\n",
              "    <tr>\n",
              "      <th>90868</th>\n",
              "      <td>20200630</td>\n",
              "      <td>gadgets-news</td>\n",
              "      <td>why tiktok removed 1 65 crore videos in india</td>\n",
              "    </tr>\n",
              "    <tr>\n",
              "      <th>90869</th>\n",
              "      <td>20200630</td>\n",
              "      <td>entertainment.ndi.bollywood</td>\n",
              "      <td>apurva asrani calls alia bhatts mother soni ra...</td>\n",
              "    </tr>\n",
              "    <tr>\n",
              "      <th>90870</th>\n",
              "      <td>20200630</td>\n",
              "      <td>entertainment.ndi.bollywood</td>\n",
              "      <td>kangana ranaut gets a doll version of herself ...</td>\n",
              "    </tr>\n",
              "    <tr>\n",
              "      <th>90871</th>\n",
              "      <td>20200630</td>\n",
              "      <td>entertainment.ndi.bollywood</td>\n",
              "      <td>meezaan jaffrey reminisces s cldhood days with...</td>\n",
              "    </tr>\n",
              "    <tr>\n",
              "      <th>90872</th>\n",
              "      <td>20200630</td>\n",
              "      <td>entertainment.telugu.movies.news</td>\n",
              "      <td>prabhas20 titled as radhe shyam prabhas and po...</td>\n",
              "    </tr>\n",
              "  </tbody>\n",
              "</table>\n",
              "<p>90873 rows × 3 columns</p>\n",
              "</div>"
            ],
            "text/plain": [
              "           Date  ...                                               News\n",
              "0      20200101  ...  Happy New Year 2020: Images; Quotes; Wishes; M...\n",
              "1      20200101  ...      Bone-clling cold wavecontinues to sweep state\n",
              "2      20200101  ...                    T gained 163 sq km forest cover\n",
              "3      20200101  ...                    Draft electoral rolls published\n",
              "4      20200101  ...  Invasive species increasing in Kerala's core f...\n",
              "...         ...  ...                                                ...\n",
              "90868  20200630  ...      why tiktok removed 1 65 crore videos in india\n",
              "90869  20200630  ...  apurva asrani calls alia bhatts mother soni ra...\n",
              "90870  20200630  ...  kangana ranaut gets a doll version of herself ...\n",
              "90871  20200630  ...  meezaan jaffrey reminisces s cldhood days with...\n",
              "90872  20200630  ...  prabhas20 titled as radhe shyam prabhas and po...\n",
              "\n",
              "[90873 rows x 3 columns]"
            ]
          },
          "metadata": {},
          "execution_count": 134
        }
      ]
    },
    {
      "cell_type": "markdown",
      "metadata": {
        "id": "PjjJghYG8ygi"
      },
      "source": [
        "# Cleaning and processing data"
      ]
    },
    {
      "cell_type": "code",
      "metadata": {
        "id": "39u41bJc86SK"
      },
      "source": [
        "df_news.dropna(axis = 0, inplace=True)\n",
        "df_news.drop('Category', axis=1, inplace=True)"
      ],
      "execution_count": null,
      "outputs": []
    },
    {
      "cell_type": "code",
      "metadata": {
        "colab": {
          "base_uri": "https://localhost:8080/",
          "height": 417
        },
        "id": "q3lfBwM79J65",
        "outputId": "2ade20a1-ac61-4274-db3a-ceac647e3e17"
      },
      "source": [
        "df_news['Date'] = pd.to_datetime(df_news['Date'], format='%Y%m%d')\n",
        "df['Date'] = pd.to_datetime(df['Date'])\n",
        "df"
      ],
      "execution_count": null,
      "outputs": [
        {
          "output_type": "execute_result",
          "data": {
            "text/html": [
              "<div>\n",
              "<style scoped>\n",
              "    .dataframe tbody tr th:only-of-type {\n",
              "        vertical-align: middle;\n",
              "    }\n",
              "\n",
              "    .dataframe tbody tr th {\n",
              "        vertical-align: top;\n",
              "    }\n",
              "\n",
              "    .dataframe thead th {\n",
              "        text-align: right;\n",
              "    }\n",
              "</style>\n",
              "<table border=\"1\" class=\"dataframe\">\n",
              "  <thead>\n",
              "    <tr style=\"text-align: right;\">\n",
              "      <th></th>\n",
              "      <th>Date</th>\n",
              "      <th>Open</th>\n",
              "      <th>High</th>\n",
              "      <th>Low</th>\n",
              "      <th>Close</th>\n",
              "      <th>Adj Close</th>\n",
              "      <th>Volume</th>\n",
              "    </tr>\n",
              "  </thead>\n",
              "  <tbody>\n",
              "    <tr>\n",
              "      <th>0</th>\n",
              "      <td>2020-04-29</td>\n",
              "      <td>32311.039062</td>\n",
              "      <td>32897.589844</td>\n",
              "      <td>32171.650391</td>\n",
              "      <td>32720.160156</td>\n",
              "      <td>32720.160156</td>\n",
              "      <td>16000</td>\n",
              "    </tr>\n",
              "    <tr>\n",
              "      <th>1</th>\n",
              "      <td>2020-04-30</td>\n",
              "      <td>33381.191406</td>\n",
              "      <td>33887.250000</td>\n",
              "      <td>33354.929688</td>\n",
              "      <td>33717.621094</td>\n",
              "      <td>33717.621094</td>\n",
              "      <td>21100</td>\n",
              "    </tr>\n",
              "    <tr>\n",
              "      <th>2</th>\n",
              "      <td>2020-05-04</td>\n",
              "      <td>32748.140625</td>\n",
              "      <td>32748.140625</td>\n",
              "      <td>31632.019531</td>\n",
              "      <td>31715.349609</td>\n",
              "      <td>31715.349609</td>\n",
              "      <td>18300</td>\n",
              "    </tr>\n",
              "    <tr>\n",
              "      <th>3</th>\n",
              "      <td>2020-05-05</td>\n",
              "      <td>32182.900391</td>\n",
              "      <td>32264.000000</td>\n",
              "      <td>31403.570312</td>\n",
              "      <td>31453.509766</td>\n",
              "      <td>31453.509766</td>\n",
              "      <td>19200</td>\n",
              "    </tr>\n",
              "    <tr>\n",
              "      <th>4</th>\n",
              "      <td>2020-05-06</td>\n",
              "      <td>31577.630859</td>\n",
              "      <td>31970.839844</td>\n",
              "      <td>31158.750000</td>\n",
              "      <td>31685.750000</td>\n",
              "      <td>31685.750000</td>\n",
              "      <td>19200</td>\n",
              "    </tr>\n",
              "    <tr>\n",
              "      <th>...</th>\n",
              "      <td>...</td>\n",
              "      <td>...</td>\n",
              "      <td>...</td>\n",
              "      <td>...</td>\n",
              "      <td>...</td>\n",
              "      <td>...</td>\n",
              "      <td>...</td>\n",
              "    </tr>\n",
              "    <tr>\n",
              "      <th>243</th>\n",
              "      <td>2021-04-22</td>\n",
              "      <td>47501.710938</td>\n",
              "      <td>48143.160156</td>\n",
              "      <td>47204.500000</td>\n",
              "      <td>48080.671875</td>\n",
              "      <td>48080.671875</td>\n",
              "      <td>15800</td>\n",
              "    </tr>\n",
              "    <tr>\n",
              "      <th>244</th>\n",
              "      <td>2021-04-23</td>\n",
              "      <td>47863.808594</td>\n",
              "      <td>48265.390625</td>\n",
              "      <td>47669.550781</td>\n",
              "      <td>47878.449219</td>\n",
              "      <td>47878.449219</td>\n",
              "      <td>11200</td>\n",
              "    </tr>\n",
              "    <tr>\n",
              "      <th>245</th>\n",
              "      <td>2021-04-26</td>\n",
              "      <td>48197.371094</td>\n",
              "      <td>48667.980469</td>\n",
              "      <td>48152.238281</td>\n",
              "      <td>48386.511719</td>\n",
              "      <td>48386.511719</td>\n",
              "      <td>15200</td>\n",
              "    </tr>\n",
              "    <tr>\n",
              "      <th>246</th>\n",
              "      <td>2021-04-27</td>\n",
              "      <td>48424.078125</td>\n",
              "      <td>49009.261719</td>\n",
              "      <td>48399.531250</td>\n",
              "      <td>48944.140625</td>\n",
              "      <td>48944.140625</td>\n",
              "      <td>10100</td>\n",
              "    </tr>\n",
              "    <tr>\n",
              "      <th>247</th>\n",
              "      <td>2021-04-28</td>\n",
              "      <td>49066.640625</td>\n",
              "      <td>49801.480469</td>\n",
              "      <td>49066.640625</td>\n",
              "      <td>49733.839844</td>\n",
              "      <td>49733.839844</td>\n",
              "      <td>14300</td>\n",
              "    </tr>\n",
              "  </tbody>\n",
              "</table>\n",
              "<p>248 rows × 7 columns</p>\n",
              "</div>"
            ],
            "text/plain": [
              "          Date          Open          High  ...         Close     Adj Close  Volume\n",
              "0   2020-04-29  32311.039062  32897.589844  ...  32720.160156  32720.160156   16000\n",
              "1   2020-04-30  33381.191406  33887.250000  ...  33717.621094  33717.621094   21100\n",
              "2   2020-05-04  32748.140625  32748.140625  ...  31715.349609  31715.349609   18300\n",
              "3   2020-05-05  32182.900391  32264.000000  ...  31453.509766  31453.509766   19200\n",
              "4   2020-05-06  31577.630859  31970.839844  ...  31685.750000  31685.750000   19200\n",
              "..         ...           ...           ...  ...           ...           ...     ...\n",
              "243 2021-04-22  47501.710938  48143.160156  ...  48080.671875  48080.671875   15800\n",
              "244 2021-04-23  47863.808594  48265.390625  ...  47878.449219  47878.449219   11200\n",
              "245 2021-04-26  48197.371094  48667.980469  ...  48386.511719  48386.511719   15200\n",
              "246 2021-04-27  48424.078125  49009.261719  ...  48944.140625  48944.140625   10100\n",
              "247 2021-04-28  49066.640625  49801.480469  ...  49733.839844  49733.839844   14300\n",
              "\n",
              "[248 rows x 7 columns]"
            ]
          },
          "metadata": {},
          "execution_count": 136
        }
      ]
    },
    {
      "cell_type": "code",
      "metadata": {
        "colab": {
          "base_uri": "https://localhost:8080/",
          "height": 417
        },
        "id": "Mb8kDqKg-1MQ",
        "outputId": "d2a28042-e6ee-43c5-de07-dc342d05e522"
      },
      "source": [
        "df_news['News'] = df_news.groupby(['Date']).transform(lambda x : ' '.join(x)) \n",
        "df_news = df_news.drop_duplicates() \n",
        "df_news.reset_index(inplace = True, drop = True)\n",
        "df_news"
      ],
      "execution_count": null,
      "outputs": [
        {
          "output_type": "execute_result",
          "data": {
            "text/html": [
              "<div>\n",
              "<style scoped>\n",
              "    .dataframe tbody tr th:only-of-type {\n",
              "        vertical-align: middle;\n",
              "    }\n",
              "\n",
              "    .dataframe tbody tr th {\n",
              "        vertical-align: top;\n",
              "    }\n",
              "\n",
              "    .dataframe thead th {\n",
              "        text-align: right;\n",
              "    }\n",
              "</style>\n",
              "<table border=\"1\" class=\"dataframe\">\n",
              "  <thead>\n",
              "    <tr style=\"text-align: right;\">\n",
              "      <th></th>\n",
              "      <th>Date</th>\n",
              "      <th>News</th>\n",
              "    </tr>\n",
              "  </thead>\n",
              "  <tbody>\n",
              "    <tr>\n",
              "      <th>0</th>\n",
              "      <td>2020-01-01</td>\n",
              "      <td>Happy New Year 2020: Images; Quotes; Wishes; M...</td>\n",
              "    </tr>\n",
              "    <tr>\n",
              "      <th>1</th>\n",
              "      <td>2020-01-02</td>\n",
              "      <td>Horoscope Today; 02 January 2020: Read predict...</td>\n",
              "    </tr>\n",
              "    <tr>\n",
              "      <th>2</th>\n",
              "      <td>2020-01-03</td>\n",
              "      <td>Bank Holidays in 2020 Mazya Navryac Bayko upda...</td>\n",
              "    </tr>\n",
              "    <tr>\n",
              "      <th>3</th>\n",
              "      <td>2020-01-04</td>\n",
              "      <td>Mamta Mohandas plays a nurse in Lalbagh Tolly ...</td>\n",
              "    </tr>\n",
              "    <tr>\n",
              "      <th>4</th>\n",
              "      <td>2020-01-05</td>\n",
              "      <td>Homing in on 2020 Beauty in blue Live it up in...</td>\n",
              "    </tr>\n",
              "    <tr>\n",
              "      <th>...</th>\n",
              "      <td>...</td>\n",
              "      <td>...</td>\n",
              "    </tr>\n",
              "    <tr>\n",
              "      <th>177</th>\n",
              "      <td>2020-06-26</td>\n",
              "      <td>Containment zone residents slam gh prices char...</td>\n",
              "    </tr>\n",
              "    <tr>\n",
              "      <th>178</th>\n",
              "      <td>2020-06-27</td>\n",
              "      <td>like me i wont let you have a toxic relationsp...</td>\n",
              "    </tr>\n",
              "    <tr>\n",
              "      <th>179</th>\n",
              "      <td>2020-06-28</td>\n",
              "      <td>Atanu Ghosh plans to rewrite old scripts to ma...</td>\n",
              "    </tr>\n",
              "    <tr>\n",
              "      <th>180</th>\n",
              "      <td>2020-06-29</td>\n",
              "      <td>6 hot and stylish bikini looks of Katrina Kaif...</td>\n",
              "    </tr>\n",
              "    <tr>\n",
              "      <th>181</th>\n",
              "      <td>2020-06-30</td>\n",
              "      <td>Detective Byomkesh Bakshy! Edge of Tomorrow Fi...</td>\n",
              "    </tr>\n",
              "  </tbody>\n",
              "</table>\n",
              "<p>182 rows × 2 columns</p>\n",
              "</div>"
            ],
            "text/plain": [
              "          Date                                               News\n",
              "0   2020-01-01  Happy New Year 2020: Images; Quotes; Wishes; M...\n",
              "1   2020-01-02  Horoscope Today; 02 January 2020: Read predict...\n",
              "2   2020-01-03  Bank Holidays in 2020 Mazya Navryac Bayko upda...\n",
              "3   2020-01-04  Mamta Mohandas plays a nurse in Lalbagh Tolly ...\n",
              "4   2020-01-05  Homing in on 2020 Beauty in blue Live it up in...\n",
              "..         ...                                                ...\n",
              "177 2020-06-26  Containment zone residents slam gh prices char...\n",
              "178 2020-06-27  like me i wont let you have a toxic relationsp...\n",
              "179 2020-06-28  Atanu Ghosh plans to rewrite old scripts to ma...\n",
              "180 2020-06-29  6 hot and stylish bikini looks of Katrina Kaif...\n",
              "181 2020-06-30  Detective Byomkesh Bakshy! Edge of Tomorrow Fi...\n",
              "\n",
              "[182 rows x 2 columns]"
            ]
          },
          "metadata": {},
          "execution_count": 137
        }
      ]
    },
    {
      "cell_type": "code",
      "metadata": {
        "id": "Vm1XfaVz_LPV"
      },
      "source": [
        "# cleaning headlines\n",
        "c = []\n",
        "for i in range(0,len(df_news['News'])):\n",
        "  news = re.sub('[^a-zA-Z]',' ',df_news['News'][i])\n",
        "  news =  news.lower()\n",
        "  news = news.split()\n",
        "  news = [ps.stem(word) for word in news if not word in set(stopwords.words('english'))]\n",
        "  news = ' '.join(news)\n",
        "  c.append(news)"
      ],
      "execution_count": null,
      "outputs": []
    },
    {
      "cell_type": "code",
      "metadata": {
        "colab": {
          "base_uri": "https://localhost:8080/",
          "height": 518
        },
        "id": "4PO6LWdGBDds",
        "outputId": "1a075ba2-bcd0-466c-fbae-30a2fceb8cc1"
      },
      "source": [
        "df_news['News'] = pd.Series(c)\n",
        "df_news"
      ],
      "execution_count": null,
      "outputs": [
        {
          "output_type": "stream",
          "text": [
            "/usr/local/lib/python3.7/dist-packages/ipykernel_launcher.py:1: SettingWithCopyWarning: \n",
            "A value is trying to be set on a copy of a slice from a DataFrame.\n",
            "Try using .loc[row_indexer,col_indexer] = value instead\n",
            "\n",
            "See the caveats in the documentation: https://pandas.pydata.org/pandas-docs/stable/user_guide/indexing.html#returning-a-view-versus-a-copy\n",
            "  \"\"\"Entry point for launching an IPython kernel.\n"
          ],
          "name": "stderr"
        },
        {
          "output_type": "execute_result",
          "data": {
            "text/html": [
              "<div>\n",
              "<style scoped>\n",
              "    .dataframe tbody tr th:only-of-type {\n",
              "        vertical-align: middle;\n",
              "    }\n",
              "\n",
              "    .dataframe tbody tr th {\n",
              "        vertical-align: top;\n",
              "    }\n",
              "\n",
              "    .dataframe thead th {\n",
              "        text-align: right;\n",
              "    }\n",
              "</style>\n",
              "<table border=\"1\" class=\"dataframe\">\n",
              "  <thead>\n",
              "    <tr style=\"text-align: right;\">\n",
              "      <th></th>\n",
              "      <th>Date</th>\n",
              "      <th>News</th>\n",
              "    </tr>\n",
              "  </thead>\n",
              "  <tbody>\n",
              "    <tr>\n",
              "      <th>0</th>\n",
              "      <td>2020-01-01</td>\n",
              "      <td>happi new year imag quot wish messag card gree...</td>\n",
              "    </tr>\n",
              "    <tr>\n",
              "      <th>1</th>\n",
              "      <td>2020-01-02</td>\n",
              "      <td>horoscop today januari read predict ari tauru ...</td>\n",
              "    </tr>\n",
              "    <tr>\n",
              "      <th>2</th>\n",
              "      <td>2020-01-03</td>\n",
              "      <td>bank holiday mazya navryac bayko updat januari...</td>\n",
              "    </tr>\n",
              "    <tr>\n",
              "      <th>3</th>\n",
              "      <td>2020-01-04</td>\n",
              "      <td>mamta mohanda play nurs lalbagh tolli celeb op...</td>\n",
              "    </tr>\n",
              "    <tr>\n",
              "      <th>4</th>\n",
              "      <td>2020-01-05</td>\n",
              "      <td>home beauti blue live diet induc sound sleep y...</td>\n",
              "    </tr>\n",
              "    <tr>\n",
              "      <th>...</th>\n",
              "      <td>...</td>\n",
              "      <td>...</td>\n",
              "    </tr>\n",
              "    <tr>\n",
              "      <th>177</th>\n",
              "      <td>2020-06-26</td>\n",
              "      <td>contain zone resid slam gh price charg veget v...</td>\n",
              "    </tr>\n",
              "    <tr>\n",
              "      <th>178</th>\n",
              "      <td>2020-06-27</td>\n",
              "      <td>like wont let toxic relationsp food major ravi...</td>\n",
              "    </tr>\n",
              "    <tr>\n",
              "      <th>179</th>\n",
              "      <td>2020-06-28</td>\n",
              "      <td>atanu ghosh plan rewrit old script make relev ...</td>\n",
              "    </tr>\n",
              "    <tr>\n",
              "      <th>180</th>\n",
              "      <td>2020-06-29</td>\n",
              "      <td>hot stylish bikini look katrina kaif anna eden...</td>\n",
              "    </tr>\n",
              "    <tr>\n",
              "      <th>181</th>\n",
              "      <td>2020-06-30</td>\n",
              "      <td>detect byomkesh bakshi edg tomorrow first look...</td>\n",
              "    </tr>\n",
              "  </tbody>\n",
              "</table>\n",
              "<p>182 rows × 2 columns</p>\n",
              "</div>"
            ],
            "text/plain": [
              "          Date                                               News\n",
              "0   2020-01-01  happi new year imag quot wish messag card gree...\n",
              "1   2020-01-02  horoscop today januari read predict ari tauru ...\n",
              "2   2020-01-03  bank holiday mazya navryac bayko updat januari...\n",
              "3   2020-01-04  mamta mohanda play nurs lalbagh tolli celeb op...\n",
              "4   2020-01-05  home beauti blue live diet induc sound sleep y...\n",
              "..         ...                                                ...\n",
              "177 2020-06-26  contain zone resid slam gh price charg veget v...\n",
              "178 2020-06-27  like wont let toxic relationsp food major ravi...\n",
              "179 2020-06-28  atanu ghosh plan rewrit old script make relev ...\n",
              "180 2020-06-29  hot stylish bikini look katrina kaif anna eden...\n",
              "181 2020-06-30  detect byomkesh bakshi edg tomorrow first look...\n",
              "\n",
              "[182 rows x 2 columns]"
            ]
          },
          "metadata": {},
          "execution_count": 139
        }
      ]
    },
    {
      "cell_type": "markdown",
      "metadata": {
        "id": "0SCgxRkAJLcg"
      },
      "source": [
        "# Calculating Subjectivity and Polarity scores using TextBlob module:¶"
      ]
    },
    {
      "cell_type": "code",
      "metadata": {
        "id": "ySjvOFvGJPgU"
      },
      "source": [
        "def subjectivity(text):\n",
        "  return TextBlob(text).sentiment.subjectivity\n",
        "def getPolarity(text):\n",
        "  return TextBlob(text).sentiment.polarity"
      ],
      "execution_count": null,
      "outputs": []
    },
    {
      "cell_type": "code",
      "metadata": {
        "colab": {
          "base_uri": "https://localhost:8080/",
          "height": 618
        },
        "id": "Nk3xJKU2JidO",
        "outputId": "cb7ff4d2-0075-47cd-d258-d1a320a7222d"
      },
      "source": [
        "df_news['Subjectivity'] = df_news['News'].apply(subjectivity)\n",
        "df_news['Polarity'] = df_news['News'].apply(getPolarity)\n",
        "df_news"
      ],
      "execution_count": null,
      "outputs": [
        {
          "output_type": "stream",
          "text": [
            "/usr/local/lib/python3.7/dist-packages/ipykernel_launcher.py:1: SettingWithCopyWarning: \n",
            "A value is trying to be set on a copy of a slice from a DataFrame.\n",
            "Try using .loc[row_indexer,col_indexer] = value instead\n",
            "\n",
            "See the caveats in the documentation: https://pandas.pydata.org/pandas-docs/stable/user_guide/indexing.html#returning-a-view-versus-a-copy\n",
            "  \"\"\"Entry point for launching an IPython kernel.\n",
            "/usr/local/lib/python3.7/dist-packages/ipykernel_launcher.py:2: SettingWithCopyWarning: \n",
            "A value is trying to be set on a copy of a slice from a DataFrame.\n",
            "Try using .loc[row_indexer,col_indexer] = value instead\n",
            "\n",
            "See the caveats in the documentation: https://pandas.pydata.org/pandas-docs/stable/user_guide/indexing.html#returning-a-view-versus-a-copy\n",
            "  \n"
          ],
          "name": "stderr"
        },
        {
          "output_type": "execute_result",
          "data": {
            "text/html": [
              "<div>\n",
              "<style scoped>\n",
              "    .dataframe tbody tr th:only-of-type {\n",
              "        vertical-align: middle;\n",
              "    }\n",
              "\n",
              "    .dataframe tbody tr th {\n",
              "        vertical-align: top;\n",
              "    }\n",
              "\n",
              "    .dataframe thead th {\n",
              "        text-align: right;\n",
              "    }\n",
              "</style>\n",
              "<table border=\"1\" class=\"dataframe\">\n",
              "  <thead>\n",
              "    <tr style=\"text-align: right;\">\n",
              "      <th></th>\n",
              "      <th>Date</th>\n",
              "      <th>News</th>\n",
              "      <th>Subjectivity</th>\n",
              "      <th>Polarity</th>\n",
              "    </tr>\n",
              "  </thead>\n",
              "  <tbody>\n",
              "    <tr>\n",
              "      <th>0</th>\n",
              "      <td>2020-01-01</td>\n",
              "      <td>happi new year imag quot wish messag card gree...</td>\n",
              "      <td>0.407509</td>\n",
              "      <td>0.040729</td>\n",
              "    </tr>\n",
              "    <tr>\n",
              "      <th>1</th>\n",
              "      <td>2020-01-02</td>\n",
              "      <td>horoscop today januari read predict ari tauru ...</td>\n",
              "      <td>0.410638</td>\n",
              "      <td>0.078692</td>\n",
              "    </tr>\n",
              "    <tr>\n",
              "      <th>2</th>\n",
              "      <td>2020-01-03</td>\n",
              "      <td>bank holiday mazya navryac bayko updat januari...</td>\n",
              "      <td>0.370711</td>\n",
              "      <td>0.085875</td>\n",
              "    </tr>\n",
              "    <tr>\n",
              "      <th>3</th>\n",
              "      <td>2020-01-04</td>\n",
              "      <td>mamta mohanda play nurs lalbagh tolli celeb op...</td>\n",
              "      <td>0.389496</td>\n",
              "      <td>0.126830</td>\n",
              "    </tr>\n",
              "    <tr>\n",
              "      <th>4</th>\n",
              "      <td>2020-01-05</td>\n",
              "      <td>home beauti blue live diet induc sound sleep y...</td>\n",
              "      <td>0.350895</td>\n",
              "      <td>0.093071</td>\n",
              "    </tr>\n",
              "    <tr>\n",
              "      <th>...</th>\n",
              "      <td>...</td>\n",
              "      <td>...</td>\n",
              "      <td>...</td>\n",
              "      <td>...</td>\n",
              "    </tr>\n",
              "    <tr>\n",
              "      <th>177</th>\n",
              "      <td>2020-06-26</td>\n",
              "      <td>contain zone resid slam gh price charg veget v...</td>\n",
              "      <td>0.324106</td>\n",
              "      <td>0.066983</td>\n",
              "    </tr>\n",
              "    <tr>\n",
              "      <th>178</th>\n",
              "      <td>2020-06-27</td>\n",
              "      <td>like wont let toxic relationsp food major ravi...</td>\n",
              "      <td>0.371791</td>\n",
              "      <td>0.063043</td>\n",
              "    </tr>\n",
              "    <tr>\n",
              "      <th>179</th>\n",
              "      <td>2020-06-28</td>\n",
              "      <td>atanu ghosh plan rewrit old script make relev ...</td>\n",
              "      <td>0.368076</td>\n",
              "      <td>0.054104</td>\n",
              "    </tr>\n",
              "    <tr>\n",
              "      <th>180</th>\n",
              "      <td>2020-06-29</td>\n",
              "      <td>hot stylish bikini look katrina kaif anna eden...</td>\n",
              "      <td>0.370906</td>\n",
              "      <td>0.061918</td>\n",
              "    </tr>\n",
              "    <tr>\n",
              "      <th>181</th>\n",
              "      <td>2020-06-30</td>\n",
              "      <td>detect byomkesh bakshi edg tomorrow first look...</td>\n",
              "      <td>0.345426</td>\n",
              "      <td>0.056202</td>\n",
              "    </tr>\n",
              "  </tbody>\n",
              "</table>\n",
              "<p>182 rows × 4 columns</p>\n",
              "</div>"
            ],
            "text/plain": [
              "          Date  ...  Polarity\n",
              "0   2020-01-01  ...  0.040729\n",
              "1   2020-01-02  ...  0.078692\n",
              "2   2020-01-03  ...  0.085875\n",
              "3   2020-01-04  ...  0.126830\n",
              "4   2020-01-05  ...  0.093071\n",
              "..         ...  ...       ...\n",
              "177 2020-06-26  ...  0.066983\n",
              "178 2020-06-27  ...  0.063043\n",
              "179 2020-06-28  ...  0.054104\n",
              "180 2020-06-29  ...  0.061918\n",
              "181 2020-06-30  ...  0.056202\n",
              "\n",
              "[182 rows x 4 columns]"
            ]
          },
          "metadata": {},
          "execution_count": 141
        }
      ]
    },
    {
      "cell_type": "markdown",
      "metadata": {
        "id": "zLAILHqwKC_s"
      },
      "source": [
        "# Sentiment analysis on news headline"
      ]
    },
    {
      "cell_type": "code",
      "metadata": {
        "colab": {
          "base_uri": "https://localhost:8080/",
          "height": 820
        },
        "id": "TG6HkGEbKIDf",
        "outputId": "d078af96-fb14-488a-ba04-d0178d616ad0"
      },
      "source": [
        "sia = SentimentIntensityAnalyzer()\n",
        "df_news['Compound'] = [sia.polarity_scores(v)['compound'] for v in df_news['News']]\n",
        "df_news['Negative'] = [sia.polarity_scores(v)['neg'] for v in df_news['News']]\n",
        "df_news['Neutral'] = [sia.polarity_scores(v)['neu'] for v in df_news['News']]\n",
        "df_news['Positive'] = [sia.polarity_scores(v)['pos'] for v in df_news['News']]\n",
        "df_news"
      ],
      "execution_count": null,
      "outputs": [
        {
          "output_type": "stream",
          "text": [
            "/usr/local/lib/python3.7/dist-packages/ipykernel_launcher.py:2: SettingWithCopyWarning: \n",
            "A value is trying to be set on a copy of a slice from a DataFrame.\n",
            "Try using .loc[row_indexer,col_indexer] = value instead\n",
            "\n",
            "See the caveats in the documentation: https://pandas.pydata.org/pandas-docs/stable/user_guide/indexing.html#returning-a-view-versus-a-copy\n",
            "  \n",
            "/usr/local/lib/python3.7/dist-packages/ipykernel_launcher.py:3: SettingWithCopyWarning: \n",
            "A value is trying to be set on a copy of a slice from a DataFrame.\n",
            "Try using .loc[row_indexer,col_indexer] = value instead\n",
            "\n",
            "See the caveats in the documentation: https://pandas.pydata.org/pandas-docs/stable/user_guide/indexing.html#returning-a-view-versus-a-copy\n",
            "  This is separate from the ipykernel package so we can avoid doing imports until\n",
            "/usr/local/lib/python3.7/dist-packages/ipykernel_launcher.py:4: SettingWithCopyWarning: \n",
            "A value is trying to be set on a copy of a slice from a DataFrame.\n",
            "Try using .loc[row_indexer,col_indexer] = value instead\n",
            "\n",
            "See the caveats in the documentation: https://pandas.pydata.org/pandas-docs/stable/user_guide/indexing.html#returning-a-view-versus-a-copy\n",
            "  after removing the cwd from sys.path.\n",
            "/usr/local/lib/python3.7/dist-packages/ipykernel_launcher.py:5: SettingWithCopyWarning: \n",
            "A value is trying to be set on a copy of a slice from a DataFrame.\n",
            "Try using .loc[row_indexer,col_indexer] = value instead\n",
            "\n",
            "See the caveats in the documentation: https://pandas.pydata.org/pandas-docs/stable/user_guide/indexing.html#returning-a-view-versus-a-copy\n",
            "  \"\"\"\n"
          ],
          "name": "stderr"
        },
        {
          "output_type": "execute_result",
          "data": {
            "text/html": [
              "<div>\n",
              "<style scoped>\n",
              "    .dataframe tbody tr th:only-of-type {\n",
              "        vertical-align: middle;\n",
              "    }\n",
              "\n",
              "    .dataframe tbody tr th {\n",
              "        vertical-align: top;\n",
              "    }\n",
              "\n",
              "    .dataframe thead th {\n",
              "        text-align: right;\n",
              "    }\n",
              "</style>\n",
              "<table border=\"1\" class=\"dataframe\">\n",
              "  <thead>\n",
              "    <tr style=\"text-align: right;\">\n",
              "      <th></th>\n",
              "      <th>Date</th>\n",
              "      <th>News</th>\n",
              "      <th>Subjectivity</th>\n",
              "      <th>Polarity</th>\n",
              "      <th>Compound</th>\n",
              "      <th>Negative</th>\n",
              "      <th>Neutral</th>\n",
              "      <th>Positive</th>\n",
              "    </tr>\n",
              "  </thead>\n",
              "  <tbody>\n",
              "    <tr>\n",
              "      <th>0</th>\n",
              "      <td>2020-01-01</td>\n",
              "      <td>happi new year imag quot wish messag card gree...</td>\n",
              "      <td>0.407509</td>\n",
              "      <td>0.040729</td>\n",
              "      <td>-0.9998</td>\n",
              "      <td>0.151</td>\n",
              "      <td>0.777</td>\n",
              "      <td>0.072</td>\n",
              "    </tr>\n",
              "    <tr>\n",
              "      <th>1</th>\n",
              "      <td>2020-01-02</td>\n",
              "      <td>horoscop today januari read predict ari tauru ...</td>\n",
              "      <td>0.410638</td>\n",
              "      <td>0.078692</td>\n",
              "      <td>-0.9998</td>\n",
              "      <td>0.155</td>\n",
              "      <td>0.766</td>\n",
              "      <td>0.079</td>\n",
              "    </tr>\n",
              "    <tr>\n",
              "      <th>2</th>\n",
              "      <td>2020-01-03</td>\n",
              "      <td>bank holiday mazya navryac bayko updat januari...</td>\n",
              "      <td>0.370711</td>\n",
              "      <td>0.085875</td>\n",
              "      <td>-0.9994</td>\n",
              "      <td>0.122</td>\n",
              "      <td>0.790</td>\n",
              "      <td>0.088</td>\n",
              "    </tr>\n",
              "    <tr>\n",
              "      <th>3</th>\n",
              "      <td>2020-01-04</td>\n",
              "      <td>mamta mohanda play nurs lalbagh tolli celeb op...</td>\n",
              "      <td>0.389496</td>\n",
              "      <td>0.126830</td>\n",
              "      <td>-0.9998</td>\n",
              "      <td>0.146</td>\n",
              "      <td>0.780</td>\n",
              "      <td>0.074</td>\n",
              "    </tr>\n",
              "    <tr>\n",
              "      <th>4</th>\n",
              "      <td>2020-01-05</td>\n",
              "      <td>home beauti blue live diet induc sound sleep y...</td>\n",
              "      <td>0.350895</td>\n",
              "      <td>0.093071</td>\n",
              "      <td>-0.9999</td>\n",
              "      <td>0.156</td>\n",
              "      <td>0.772</td>\n",
              "      <td>0.072</td>\n",
              "    </tr>\n",
              "    <tr>\n",
              "      <th>...</th>\n",
              "      <td>...</td>\n",
              "      <td>...</td>\n",
              "      <td>...</td>\n",
              "      <td>...</td>\n",
              "      <td>...</td>\n",
              "      <td>...</td>\n",
              "      <td>...</td>\n",
              "      <td>...</td>\n",
              "    </tr>\n",
              "    <tr>\n",
              "      <th>177</th>\n",
              "      <td>2020-06-26</td>\n",
              "      <td>contain zone resid slam gh price charg veget v...</td>\n",
              "      <td>0.324106</td>\n",
              "      <td>0.066983</td>\n",
              "      <td>-0.9998</td>\n",
              "      <td>0.142</td>\n",
              "      <td>0.790</td>\n",
              "      <td>0.068</td>\n",
              "    </tr>\n",
              "    <tr>\n",
              "      <th>178</th>\n",
              "      <td>2020-06-27</td>\n",
              "      <td>like wont let toxic relationsp food major ravi...</td>\n",
              "      <td>0.371791</td>\n",
              "      <td>0.063043</td>\n",
              "      <td>-0.9998</td>\n",
              "      <td>0.139</td>\n",
              "      <td>0.791</td>\n",
              "      <td>0.070</td>\n",
              "    </tr>\n",
              "    <tr>\n",
              "      <th>179</th>\n",
              "      <td>2020-06-28</td>\n",
              "      <td>atanu ghosh plan rewrit old script make relev ...</td>\n",
              "      <td>0.368076</td>\n",
              "      <td>0.054104</td>\n",
              "      <td>-0.9998</td>\n",
              "      <td>0.135</td>\n",
              "      <td>0.801</td>\n",
              "      <td>0.064</td>\n",
              "    </tr>\n",
              "    <tr>\n",
              "      <th>180</th>\n",
              "      <td>2020-06-29</td>\n",
              "      <td>hot stylish bikini look katrina kaif anna eden...</td>\n",
              "      <td>0.370906</td>\n",
              "      <td>0.061918</td>\n",
              "      <td>-0.9998</td>\n",
              "      <td>0.130</td>\n",
              "      <td>0.800</td>\n",
              "      <td>0.069</td>\n",
              "    </tr>\n",
              "    <tr>\n",
              "      <th>181</th>\n",
              "      <td>2020-06-30</td>\n",
              "      <td>detect byomkesh bakshi edg tomorrow first look...</td>\n",
              "      <td>0.345426</td>\n",
              "      <td>0.056202</td>\n",
              "      <td>-0.9999</td>\n",
              "      <td>0.134</td>\n",
              "      <td>0.818</td>\n",
              "      <td>0.048</td>\n",
              "    </tr>\n",
              "  </tbody>\n",
              "</table>\n",
              "<p>182 rows × 8 columns</p>\n",
              "</div>"
            ],
            "text/plain": [
              "          Date  ... Positive\n",
              "0   2020-01-01  ...    0.072\n",
              "1   2020-01-02  ...    0.079\n",
              "2   2020-01-03  ...    0.088\n",
              "3   2020-01-04  ...    0.074\n",
              "4   2020-01-05  ...    0.072\n",
              "..         ...  ...      ...\n",
              "177 2020-06-26  ...    0.068\n",
              "178 2020-06-27  ...    0.070\n",
              "179 2020-06-28  ...    0.064\n",
              "180 2020-06-29  ...    0.069\n",
              "181 2020-06-30  ...    0.048\n",
              "\n",
              "[182 rows x 8 columns]"
            ]
          },
          "metadata": {},
          "execution_count": 142
        }
      ]
    },
    {
      "cell_type": "code",
      "metadata": {
        "colab": {
          "base_uri": "https://localhost:8080/"
        },
        "id": "ekI0_hrxKwn-",
        "outputId": "072f592d-b24c-4033-b77f-bd8854936086"
      },
      "source": [
        "df_merge = pd.merge(df, df_news, how='inner', on='Date')\n",
        "df_merge.drop('Date', axis=1, inplace=True)\n",
        "df_merge.drop('News', axis=1, inplace=True)\n",
        "print(df_merge.columns)\n",
        "print(len(df_merge))\n",
        "print(len(df_news))\n",
        "print(len(df))"
      ],
      "execution_count": null,
      "outputs": [
        {
          "output_type": "stream",
          "text": [
            "Index(['Open', 'High', 'Low', 'Close', 'Adj Close', 'Volume', 'Subjectivity',\n",
            "       'Polarity', 'Compound', 'Negative', 'Neutral', 'Positive'],\n",
            "      dtype='object')\n",
            "43\n",
            "182\n",
            "248\n"
          ],
          "name": "stdout"
        }
      ]
    },
    {
      "cell_type": "code",
      "metadata": {
        "id": "DpQ1-9G4UDsD"
      },
      "source": [
        "def series_to_supervised(data, n_in=1, n_out=1, dropnan=True):\n",
        "\tn_vars = 1 if type(data) is list else data.shape[1]\n",
        "\tdf1 = pd.DataFrame(data)\n",
        "\tcols, names = list(), list()\n",
        "\t# input sequence (t-n, ... t-1)\n",
        "\tfor i in range(n_in, 0, -1):\n",
        "\t\tcols.append(df1.shift(i))\n",
        "\t\tnames += [('var%d(t-%d)' % (j+1, i)) for j in range(n_vars)]\n",
        "\t# forecast sequence (t, t+1, ... t+n)\n",
        "\tfor i in range(0, n_out):\n",
        "\t\tcols.append(df1.shift(-i))\n",
        "\t\tif i == 0:\n",
        "\t\t\tnames += [('var%d(t)' % (j+1)) for j in range(n_vars)]\n",
        "\t\telse:\n",
        "\t\t\tnames += [('var%d(t+%d)' % (j+1, i)) for j in range(n_vars)]\n",
        "\t# put it all together\n",
        "\tagg = pd.concat(cols, axis=1)\n",
        "\tagg.columns = names\n",
        "\t# drop rows with NaN values\n",
        "\tif dropnan:\n",
        "\t\tagg.dropna(inplace=True)\n",
        "\treturn agg"
      ],
      "execution_count": null,
      "outputs": []
    },
    {
      "cell_type": "code",
      "metadata": {
        "colab": {
          "base_uri": "https://localhost:8080/"
        },
        "id": "o_vOXUcPWFbS",
        "outputId": "1d90a0b1-1a0c-43d3-d64f-f27d91a05bdf"
      },
      "source": [
        "values = df_merge.values\n",
        "print(df_merge)\n",
        "print(values)\n",
        "values = values.astype('float32')\n",
        "scaler = MinMaxScaler(feature_range=(0,1))\n",
        "scaled = scaler.fit_transform(values)\n",
        "reframed  = series_to_supervised(scaled,1,1)\n",
        "reframed.drop(reframed.columns[[12,13,14,16,17,18,19,20,21,22,23]], axis=1, inplace=True)\n",
        "print(reframed.columns)"
      ],
      "execution_count": null,
      "outputs": [
        {
          "output_type": "stream",
          "text": [
            "            Open          High           Low  ...  Negative  Neutral  Positive\n",
            "0   32311.039062  32897.589844  32171.650391  ...     0.103    0.810     0.087\n",
            "1   33381.191406  33887.250000  33354.929688  ...     0.108    0.812     0.079\n",
            "2   32748.140625  32748.140625  31632.019531  ...     0.111    0.829     0.060\n",
            "3   32182.900391  32264.000000  31403.570312  ...     0.097    0.835     0.068\n",
            "4   31577.630859  31970.839844  31158.750000  ...     0.105    0.816     0.078\n",
            "5   31677.689453  31705.250000  31362.869141  ...     0.113    0.808     0.078\n",
            "6   32083.320312  32088.509766  31598.000000  ...     0.121    0.813     0.066\n",
            "7   32030.339844  32301.580078  31500.869141  ...     0.122    0.802     0.076\n",
            "8   31342.929688  31536.890625  30844.660156  ...     0.113    0.809     0.077\n",
            "9   32841.871094  32845.480469  31901.919922  ...     0.104    0.832     0.064\n",
            "10  31466.330078  31630.939453  31052.650391  ...     0.120    0.806     0.075\n",
            "11  31296.279297  31296.279297  30770.480469  ...     0.119    0.798     0.084\n",
            "12  31248.259766  31248.259766  29968.449219  ...     0.147    0.782     0.071\n",
            "13  30450.740234  30739.960938  30116.820312  ...     0.129    0.806     0.065\n",
            "14  30159.589844  30878.310547  30157.750000  ...     0.116    0.815     0.070\n",
            "15  30904.289062  31188.789062  30765.320312  ...     0.121    0.805     0.073\n",
            "16  30822.779297  31107.910156  30474.880859  ...     0.148    0.773     0.079\n",
            "17  30864.269531  31086.699219  30512.140625  ...     0.128    0.805     0.067\n",
            "18  30793.109375  31660.599609  30525.679688  ...     0.121    0.807     0.072\n",
            "19  31827.800781  32267.230469  31641.769531  ...     0.135    0.802     0.062\n",
            "20  32041.289062  32480.519531  31823.800781  ...     0.142    0.792     0.066\n",
            "21  32906.050781  33673.828125  32876.550781  ...     0.142    0.785     0.074\n",
            "22  33450.191406  33866.628906  33301.289062  ...     0.129    0.800     0.071\n",
            "23  34185.410156  34488.691406  34027.500000  ...     0.138    0.787     0.075\n",
            "24  34072.500000  34310.140625  33711.238281  ...     0.135    0.793     0.072\n",
            "25  34198.550781  34405.429688  33958.019531  ...     0.134    0.795     0.071\n",
            "26  34841.171875  34927.800781  34211.828125  ...     0.130    0.804     0.066\n",
            "27  34520.789062  34811.289062  33881.191406  ...     0.123    0.813     0.064\n",
            "28  34029.140625  34350.171875  33949.460938  ...     0.149    0.769     0.082\n",
            "29  34214.691406  34219.390625  33480.421875  ...     0.140    0.786     0.074\n",
            "30  32436.689453  33856.269531  32348.099609  ...     0.137    0.794     0.069\n",
            "31  33670.550781  33670.550781  32923.738281  ...     0.150    0.783     0.067\n",
            "32  33853.718750  34022.011719  32953.300781  ...     0.153    0.776     0.070\n",
            "33  33438.308594  33933.660156  33332.960938  ...     0.125    0.796     0.079\n",
            "34  33371.519531  34276.011719  33371.519531  ...     0.130    0.801     0.069\n",
            "35  34335.378906  34848.371094  34136.390625  ...     0.150    0.782     0.068\n",
            "36  34892.031250  35213.519531  34794.398438  ...     0.128    0.807     0.065\n",
            "37  35015.730469  35482.160156  34843.691406  ...     0.134    0.804     0.062\n",
            "38  35679.738281  35706.550781  34794.929688  ...     0.126    0.807     0.067\n",
            "39  34525.390625  35081.609375  34499.781250  ...     0.152    0.796     0.052\n",
            "40  35144.781250  35254.878906  34910.339844  ...     0.142    0.790     0.068\n",
            "41  34926.949219  35032.359375  34662.058594  ...     0.130    0.800     0.069\n",
            "42  35168.300781  35233.910156  34812.800781  ...     0.134    0.818     0.048\n",
            "\n",
            "[43 rows x 12 columns]\n",
            "[[ 3.23110391e+04  3.28975898e+04  3.21716504e+04  3.27201602e+04\n",
            "   3.27201602e+04  1.60000000e+04  3.55634679e-01  6.56681878e-02\n",
            "  -9.98000000e-01  1.03000000e-01  8.10000000e-01  8.70000000e-02]\n",
            " [ 3.33811914e+04  3.38872500e+04  3.33549297e+04  3.37176211e+04\n",
            "   3.37176211e+04  2.11000000e+04  3.38744589e-01  5.39371548e-02\n",
            "  -9.99100000e-01  1.08000000e-01  8.12000000e-01  7.90000000e-02]\n",
            " [ 3.27481406e+04  3.27481406e+04  3.16320195e+04  3.17153496e+04\n",
            "   3.17153496e+04  1.83000000e+04  3.50861959e-01  1.57941418e-02\n",
            "  -9.99600000e-01  1.11000000e-01  8.29000000e-01  6.00000000e-02]\n",
            " [ 3.21829004e+04  3.22640000e+04  3.14035703e+04  3.14535098e+04\n",
            "   3.14535098e+04  1.92000000e+04  3.09814374e-01  6.15616026e-02\n",
            "  -9.98900000e-01  9.70000000e-02  8.35000000e-01  6.80000000e-02]\n",
            " [ 3.15776309e+04  3.19708398e+04  3.11587500e+04  3.16857500e+04\n",
            "   3.16857500e+04  1.92000000e+04  3.59668019e-01  7.32782287e-02\n",
            "  -9.98900000e-01  1.05000000e-01  8.16000000e-01  7.80000000e-02]\n",
            " [ 3.16776895e+04  3.17052500e+04  3.13628691e+04  3.14433809e+04\n",
            "   3.14433809e+04  1.99000000e+04  3.60342634e-01  8.22140161e-02\n",
            "  -9.99400000e-01  1.13000000e-01  8.08000000e-01  7.80000000e-02]\n",
            " [ 3.20833203e+04  3.20885098e+04  3.15980000e+04  3.16426992e+04\n",
            "   3.16426992e+04  1.59000000e+04  3.64360917e-01 -1.94122544e-02\n",
            "  -9.99700000e-01  1.21000000e-01  8.13000000e-01  6.60000000e-02]\n",
            " [ 3.20303398e+04  3.23015801e+04  3.15008691e+04  3.15612207e+04\n",
            "   3.15612207e+04  1.81000000e+04  3.54806632e-01  7.35497796e-02\n",
            "  -9.99600000e-01  1.22000000e-01  8.02000000e-01  7.60000000e-02]\n",
            " [ 3.13429297e+04  3.15368906e+04  3.08446602e+04  3.13711191e+04\n",
            "   3.13711191e+04  2.31000000e+04  3.74415391e-01  3.70601492e-02\n",
            "  -9.99300000e-01  1.13000000e-01  8.09000000e-01  7.70000000e-02]\n",
            " [ 3.28418711e+04  3.28454805e+04  3.19019199e+04  3.20086094e+04\n",
            "   3.20086094e+04  1.84000000e+04  3.32082727e-01  6.52938547e-02\n",
            "  -9.99500000e-01  1.04000000e-01  8.32000000e-01  6.40000000e-02]\n",
            " [ 3.14663301e+04  3.16309395e+04  3.10526504e+04  3.11228906e+04\n",
            "   3.11228906e+04  1.52000000e+04  3.28814241e-01  4.95743146e-02\n",
            "  -9.99600000e-01  1.20000000e-01  8.06000000e-01  7.50000000e-02]\n",
            " [ 3.12962793e+04  3.12962793e+04  3.07704805e+04  3.10977305e+04\n",
            "   3.10977305e+04  1.30000000e+04  3.64931500e-01  6.76042129e-02\n",
            "  -9.99400000e-01  1.19000000e-01  7.98000000e-01  8.40000000e-02]\n",
            " [ 3.12482598e+04  3.12482598e+04  2.99684492e+04  3.00289805e+04\n",
            "   3.00289805e+04  1.95000000e+04  3.26172340e-01  4.83210242e-02\n",
            "  -9.99900000e-01  1.47000000e-01  7.82000000e-01  7.10000000e-02]\n",
            " [ 3.04507402e+04  3.07399609e+04  3.01168203e+04  3.01961699e+04\n",
            "   3.01961699e+04  1.87000000e+04  3.55472426e-01  4.10167521e-02\n",
            "  -9.99800000e-01  1.29000000e-01  8.06000000e-01  6.50000000e-02]\n",
            " [ 3.01595898e+04  3.08783105e+04  3.01577500e+04  3.08186094e+04\n",
            "   3.08186094e+04  1.61000000e+04  3.48886697e-01  5.58408071e-02\n",
            "  -9.99600000e-01  1.16000000e-01  8.15000000e-01  7.00000000e-02]\n",
            " [ 3.09042891e+04  3.11887891e+04  3.07653203e+04  3.09329004e+04\n",
            "   3.09329004e+04  1.55000000e+04  3.74536493e-01  4.59896313e-02\n",
            "  -9.99600000e-01  1.21000000e-01  8.05000000e-01  7.30000000e-02]\n",
            " [ 3.08227793e+04  3.11079102e+04  3.04748809e+04  3.06725898e+04\n",
            "   3.06725898e+04  2.06000000e+04  3.73339918e-01  7.09170614e-02\n",
            "  -9.99800000e-01  1.48000000e-01  7.73000000e-01  7.90000000e-02]\n",
            " [ 3.08642695e+04  3.10866992e+04  3.05121406e+04  3.06093008e+04\n",
            "   3.06093008e+04  1.88300000e+05  3.24201552e-01  6.21485562e-02\n",
            "  -9.99800000e-01  1.28000000e-01  8.05000000e-01  6.70000000e-02]\n",
            " [ 3.07931094e+04  3.16605996e+04  3.05256797e+04  3.16052207e+04\n",
            "   3.16052207e+04  2.05000000e+04  3.67146183e-01  7.73665035e-02\n",
            "  -9.99700000e-01  1.21000000e-01  8.07000000e-01  7.20000000e-02]\n",
            " [ 3.18278008e+04  3.22672305e+04  3.16417695e+04  3.22005898e+04\n",
            "   3.22005898e+04  2.75000000e+04  3.80222403e-01  4.40127165e-02\n",
            "  -9.99800000e-01  1.35000000e-01  8.02000000e-01  6.20000000e-02]\n",
            " [ 3.20412891e+04  3.24805195e+04  3.18238008e+04  3.24240996e+04\n",
            "   3.24240996e+04  3.71000000e+04  3.72253998e-01  7.18953973e-02\n",
            "  -9.99900000e-01  1.42000000e-01  7.92000000e-01  6.60000000e-02]\n",
            " [ 3.29060508e+04  3.36738281e+04  3.28765508e+04  3.33035195e+04\n",
            "   3.33035195e+04  2.29000000e+04  3.49907961e-01  5.48903024e-02\n",
            "  -9.99800000e-01  1.42000000e-01  7.85000000e-01  7.40000000e-02]\n",
            " [ 3.34501914e+04  3.38666289e+04  3.33012891e+04  3.38255312e+04\n",
            "   3.38255312e+04  7.56000000e+04  3.42946438e-01  6.44809900e-02\n",
            "  -9.99700000e-01  1.29000000e-01  8.00000000e-01  7.10000000e-02]\n",
            " [ 3.41854102e+04  3.44886914e+04  3.40275000e+04  3.41095391e+04\n",
            "   3.41095391e+04  1.84000000e+04  3.62444832e-01  6.22617288e-02\n",
            "  -9.99800000e-01  1.38000000e-01  7.87000000e-01  7.50000000e-02]\n",
            " [ 3.40725000e+04  3.43101406e+04  3.37112383e+04  3.39806992e+04\n",
            "   3.39806992e+04  1.79000000e+04  3.69098227e-01  5.59391255e-02\n",
            "  -9.99800000e-01  1.35000000e-01  7.93000000e-01  7.20000000e-02]\n",
            " [ 3.41985508e+04  3.44054297e+04  3.39580195e+04  3.42872383e+04\n",
            "   3.42872383e+04  2.46000000e+04  3.77569805e-01  2.79169372e-02\n",
            "  -9.99800000e-01  1.34000000e-01  7.95000000e-01  7.10000000e-02]\n",
            " [ 3.48411719e+04  3.49278008e+04  3.42118281e+04  3.43705781e+04\n",
            "   3.43705781e+04  2.57000000e+04  3.51220716e-01  4.47941424e-02\n",
            "  -9.99700000e-01  1.30000000e-01  8.04000000e-01  6.60000000e-02]\n",
            " [ 3.45207891e+04  3.48112891e+04  3.38811914e+04  3.39566914e+04\n",
            "   3.39566914e+04  1.92000000e+04  3.73804941e-01  3.17591876e-02\n",
            "  -9.99700000e-01  1.23000000e-01  8.13000000e-01  6.40000000e-02]\n",
            " [ 3.40291406e+04  3.43501719e+04  3.39494609e+04  3.42470508e+04\n",
            "   3.42470508e+04  1.55000000e+04  3.40420854e-01  5.35741220e-02\n",
            "  -9.99800000e-01  1.49000000e-01  7.69000000e-01  8.20000000e-02]\n",
            " [ 3.42146914e+04  3.42193906e+04  3.34804219e+04  3.35383711e+04\n",
            "   3.35383711e+04  2.09000000e+04  3.78621063e-01  6.47105790e-02\n",
            "  -9.99800000e-01  1.40000000e-01  7.86000000e-01  7.40000000e-02]\n",
            " [ 3.24366895e+04  3.38562695e+04  3.23480996e+04  3.37808906e+04\n",
            "   3.37808906e+04  2.30000000e+04  3.78381200e-01  4.13934817e-02\n",
            "  -9.99800000e-01  1.37000000e-01  7.94000000e-01  6.90000000e-02]\n",
            " [ 3.36705508e+04  3.36705508e+04  3.29237383e+04  3.32288008e+04\n",
            "   3.32288008e+04  1.84000000e+04  3.63650813e-01  7.06147111e-02\n",
            "  -9.99900000e-01  1.50000000e-01  7.83000000e-01  6.70000000e-02]\n",
            " [ 3.38537188e+04  3.40220117e+04  3.29533008e+04  3.36052188e+04\n",
            "   3.36052188e+04  2.74000000e+04  3.51452280e-01  3.66121533e-02\n",
            "  -9.99900000e-01  1.53000000e-01  7.76000000e-01  7.00000000e-02]\n",
            " [ 3.34383086e+04  3.39336602e+04  3.33329609e+04  3.35079219e+04\n",
            "   3.35079219e+04  2.02000000e+04  3.64419583e-01  6.47868530e-02\n",
            "  -9.99600000e-01  1.25000000e-01  7.96000000e-01  7.90000000e-02]\n",
            " [ 3.33715195e+04  3.42760117e+04  3.33715195e+04  3.42080508e+04\n",
            "   3.42080508e+04  2.12000000e+04  3.93649574e-01  6.67706101e-02\n",
            "  -9.99700000e-01  1.30000000e-01  8.01000000e-01  6.90000000e-02]\n",
            " [ 3.43353789e+04  3.48483711e+04  3.41363906e+04  3.47317305e+04\n",
            "   3.47317305e+04  2.79000000e+04  4.05277657e-01  5.03495200e-02\n",
            "  -9.99900000e-01  1.50000000e-01  7.82000000e-01  6.80000000e-02]\n",
            " [ 3.48920312e+04  3.52135195e+04  3.47943984e+04  3.49113203e+04\n",
            "   3.49113203e+04  2.51000000e+04  3.62806122e-01  5.12997320e-02\n",
            "  -9.99800000e-01  1.28000000e-01  8.07000000e-01  6.50000000e-02]\n",
            " [ 3.50157305e+04  3.54821602e+04  3.48436914e+04  3.54304297e+04\n",
            "   3.54304297e+04  2.52000000e+04  3.23463678e-01  8.02708492e-02\n",
            "  -9.99800000e-01  1.34000000e-01  8.04000000e-01  6.20000000e-02]\n",
            " [ 3.56797383e+04  3.57065508e+04  3.47949297e+04  3.48689805e+04\n",
            "   3.48689805e+04  2.66000000e+04  3.57031707e-01  7.45396045e-02\n",
            "  -9.99700000e-01  1.26000000e-01  8.07000000e-01  6.70000000e-02]\n",
            " [ 3.45253906e+04  3.50816094e+04  3.44997812e+04  3.48421016e+04\n",
            "   3.48421016e+04  2.46000000e+04  3.55011587e-01  8.85819845e-03\n",
            "  -9.99900000e-01  1.52000000e-01  7.96000000e-01  5.20000000e-02]\n",
            " [ 3.51447812e+04  3.52548789e+04  3.49103398e+04  3.51712695e+04\n",
            "   3.51712695e+04  2.48000000e+04  3.24105587e-01  6.69831776e-02\n",
            "  -9.99800000e-01  1.42000000e-01  7.90000000e-01  6.80000000e-02]\n",
            " [ 3.49269492e+04  3.50323594e+04  3.46620586e+04  3.49615195e+04\n",
            "   3.49615195e+04  1.83000000e+04  3.70906124e-01  6.19183129e-02\n",
            "  -9.99800000e-01  1.30000000e-01  8.00000000e-01  6.90000000e-02]\n",
            " [ 3.51683008e+04  3.52339102e+04  3.48128008e+04  3.49158008e+04\n",
            "   3.49158008e+04  1.85000000e+04  3.45426003e-01  5.62019132e-02\n",
            "  -9.99900000e-01  1.34000000e-01  8.18000000e-01  4.80000000e-02]]\n",
            "Index(['var1(t-1)', 'var2(t-1)', 'var3(t-1)', 'var4(t-1)', 'var5(t-1)',\n",
            "       'var6(t-1)', 'var7(t-1)', 'var8(t-1)', 'var9(t-1)', 'var10(t-1)',\n",
            "       'var11(t-1)', 'var12(t-1)', 'var4(t)'],\n",
            "      dtype='object')\n"
          ],
          "name": "stdout"
        }
      ]
    },
    {
      "cell_type": "markdown",
      "metadata": {
        "id": "07VplDHFXMr5"
      },
      "source": [
        "# Building a LSTM (Long Short Term Memory) Model to predict Stock Prices:\n"
      ]
    },
    {
      "cell_type": "code",
      "metadata": {
        "colab": {
          "base_uri": "https://localhost:8080/"
        },
        "id": "nAlGqLSLWtqA",
        "outputId": "84e30c3a-29f9-4ed4-847e-59379d88787c"
      },
      "source": [
        "values = reframed.values\n",
        "print((values).shape)\n",
        "n_train_hours = 30 \n",
        "train = values[:n_train_hours,:]\n",
        "test = values[n_train_hours:,:]\n",
        "train_X, train_Y = train[:, :-1], train[:, -1]\n",
        "test_X, test_Y = test[:, :-1], test[:, -1]\n",
        "train_X = train_X.reshape((train_X.shape[0],1,train_X.shape[1]))\n",
        "test_X = test_X.reshape((test_X.shape[0],1,test_X.shape[1]))\n",
        "print(train_X.shape, train_Y.shape, test_X.shape, test_Y.shape)"
      ],
      "execution_count": null,
      "outputs": [
        {
          "output_type": "stream",
          "text": [
            "(42, 13)\n",
            "(30, 1, 12) (30,) (12, 1, 12) (12,)\n"
          ],
          "name": "stdout"
        }
      ]
    },
    {
      "cell_type": "code",
      "metadata": {
        "colab": {
          "base_uri": "https://localhost:8080/",
          "height": 1000
        },
        "id": "mUsjj9gmXOIG",
        "outputId": "90fb0786-73b7-4d73-8c80-10aa4d0e2085"
      },
      "source": [
        "import keras\n",
        "from keras.models import Sequential\n",
        "from keras.layers import Dense\n",
        "from keras.layers import LSTM\n",
        "from keras.layers import Dropout\n",
        "\n",
        "model = Sequential()\n",
        "model.add(LSTM(50, input_shape=(train_X.shape[1], train_X.shape[2])))\n",
        "model.add(Dense(1))\n",
        "model.compile(loss='mae', optimizer='adam')\n",
        "\n",
        "history = model.fit(train_X, train_Y, epochs=50, batch_size=72, validation_data=(test_X, test_Y), verbose=2, shuffle=False)\n",
        "\n",
        "pyplot.plot(history.history['loss'], label='train')\n",
        "pyplot.plot(history.history['val_loss'], label='test')\n",
        "pyplot.legend()\n",
        "pyplot.show()"
      ],
      "execution_count": null,
      "outputs": [
        {
          "output_type": "stream",
          "text": [
            "Epoch 1/50\n",
            "WARNING:tensorflow:AutoGraph could not transform <function Model.make_train_function.<locals>.train_function at 0x7f52a671b8c0> and will run it as-is.\n",
            "Please report this to the TensorFlow team. When filing the bug, set the verbosity to 10 (on Linux, `export AUTOGRAPH_VERBOSITY=10`) and attach the full output.\n",
            "Cause: list index out of range\n",
            "To silence this warning, decorate the function with @tf.autograph.experimental.do_not_convert\n",
            "WARNING: AutoGraph could not transform <function Model.make_train_function.<locals>.train_function at 0x7f52a671b8c0> and will run it as-is.\n",
            "Please report this to the TensorFlow team. When filing the bug, set the verbosity to 10 (on Linux, `export AUTOGRAPH_VERBOSITY=10`) and attach the full output.\n",
            "Cause: list index out of range\n",
            "To silence this warning, decorate the function with @tf.autograph.experimental.do_not_convert\n",
            "WARNING:tensorflow:AutoGraph could not transform <function Model.make_test_function.<locals>.test_function at 0x7f52a7536d40> and will run it as-is.\n",
            "Please report this to the TensorFlow team. When filing the bug, set the verbosity to 10 (on Linux, `export AUTOGRAPH_VERBOSITY=10`) and attach the full output.\n",
            "Cause: list index out of range\n",
            "To silence this warning, decorate the function with @tf.autograph.experimental.do_not_convert\n",
            "WARNING: AutoGraph could not transform <function Model.make_test_function.<locals>.test_function at 0x7f52a7536d40> and will run it as-is.\n",
            "Please report this to the TensorFlow team. When filing the bug, set the verbosity to 10 (on Linux, `export AUTOGRAPH_VERBOSITY=10`) and attach the full output.\n",
            "Cause: list index out of range\n",
            "To silence this warning, decorate the function with @tf.autograph.experimental.do_not_convert\n",
            "1/1 - 3s - loss: 0.4060 - val_loss: 0.7833\n",
            "Epoch 2/50\n",
            "1/1 - 0s - loss: 0.3905 - val_loss: 0.7631\n",
            "Epoch 3/50\n",
            "1/1 - 0s - loss: 0.3763 - val_loss: 0.7429\n",
            "Epoch 4/50\n",
            "1/1 - 0s - loss: 0.3625 - val_loss: 0.7226\n",
            "Epoch 5/50\n",
            "1/1 - 0s - loss: 0.3486 - val_loss: 0.7022\n",
            "Epoch 6/50\n",
            "1/1 - 0s - loss: 0.3347 - val_loss: 0.6817\n",
            "Epoch 7/50\n",
            "1/1 - 0s - loss: 0.3207 - val_loss: 0.6610\n",
            "Epoch 8/50\n",
            "1/1 - 0s - loss: 0.3067 - val_loss: 0.6402\n",
            "Epoch 9/50\n",
            "1/1 - 0s - loss: 0.2926 - val_loss: 0.6192\n",
            "Epoch 10/50\n",
            "1/1 - 0s - loss: 0.2784 - val_loss: 0.5980\n",
            "Epoch 11/50\n",
            "1/1 - 0s - loss: 0.2645 - val_loss: 0.5767\n",
            "Epoch 12/50\n",
            "1/1 - 0s - loss: 0.2510 - val_loss: 0.5552\n",
            "Epoch 13/50\n",
            "1/1 - 0s - loss: 0.2377 - val_loss: 0.5335\n",
            "Epoch 14/50\n",
            "1/1 - 0s - loss: 0.2255 - val_loss: 0.5118\n",
            "Epoch 15/50\n",
            "1/1 - 0s - loss: 0.2136 - val_loss: 0.4899\n",
            "Epoch 16/50\n",
            "1/1 - 0s - loss: 0.2017 - val_loss: 0.4678\n",
            "Epoch 17/50\n",
            "1/1 - 0s - loss: 0.1917 - val_loss: 0.4458\n",
            "Epoch 18/50\n",
            "1/1 - 0s - loss: 0.1833 - val_loss: 0.4241\n",
            "Epoch 19/50\n",
            "1/1 - 0s - loss: 0.1761 - val_loss: 0.4027\n",
            "Epoch 20/50\n",
            "1/1 - 0s - loss: 0.1700 - val_loss: 0.3817\n",
            "Epoch 21/50\n",
            "1/1 - 0s - loss: 0.1649 - val_loss: 0.3612\n",
            "Epoch 22/50\n",
            "1/1 - 0s - loss: 0.1605 - val_loss: 0.3412\n",
            "Epoch 23/50\n",
            "1/1 - 0s - loss: 0.1579 - val_loss: 0.3220\n",
            "Epoch 24/50\n",
            "1/1 - 0s - loss: 0.1554 - val_loss: 0.3035\n",
            "Epoch 25/50\n",
            "1/1 - 0s - loss: 0.1529 - val_loss: 0.2855\n",
            "Epoch 26/50\n",
            "1/1 - 0s - loss: 0.1509 - val_loss: 0.2682\n",
            "Epoch 27/50\n",
            "1/1 - 0s - loss: 0.1490 - val_loss: 0.2516\n",
            "Epoch 28/50\n",
            "1/1 - 0s - loss: 0.1470 - val_loss: 0.2355\n",
            "Epoch 29/50\n",
            "1/1 - 0s - loss: 0.1450 - val_loss: 0.2199\n",
            "Epoch 30/50\n",
            "1/1 - 0s - loss: 0.1430 - val_loss: 0.2048\n",
            "Epoch 31/50\n",
            "1/1 - 0s - loss: 0.1409 - val_loss: 0.1900\n",
            "Epoch 32/50\n",
            "1/1 - 0s - loss: 0.1388 - val_loss: 0.1756\n",
            "Epoch 33/50\n",
            "1/1 - 0s - loss: 0.1369 - val_loss: 0.1619\n",
            "Epoch 34/50\n",
            "1/1 - 0s - loss: 0.1357 - val_loss: 0.1489\n",
            "Epoch 35/50\n",
            "1/1 - 0s - loss: 0.1344 - val_loss: 0.1366\n",
            "Epoch 36/50\n",
            "1/1 - 0s - loss: 0.1331 - val_loss: 0.1248\n",
            "Epoch 37/50\n",
            "1/1 - 0s - loss: 0.1320 - val_loss: 0.1138\n",
            "Epoch 38/50\n",
            "1/1 - 0s - loss: 0.1312 - val_loss: 0.1046\n",
            "Epoch 39/50\n",
            "1/1 - 0s - loss: 0.1308 - val_loss: 0.0981\n",
            "Epoch 40/50\n",
            "1/1 - 0s - loss: 0.1305 - val_loss: 0.0940\n",
            "Epoch 41/50\n",
            "1/1 - 0s - loss: 0.1302 - val_loss: 0.0918\n",
            "Epoch 42/50\n",
            "1/1 - 0s - loss: 0.1292 - val_loss: 0.0914\n",
            "Epoch 43/50\n",
            "1/1 - 0s - loss: 0.1277 - val_loss: 0.0924\n",
            "Epoch 44/50\n",
            "1/1 - 0s - loss: 0.1259 - val_loss: 0.0947\n",
            "Epoch 45/50\n",
            "1/1 - 0s - loss: 0.1238 - val_loss: 0.0988\n",
            "Epoch 46/50\n",
            "1/1 - 0s - loss: 0.1221 - val_loss: 0.1028\n",
            "Epoch 47/50\n",
            "1/1 - 0s - loss: 0.1209 - val_loss: 0.1069\n",
            "Epoch 48/50\n",
            "1/1 - 0s - loss: 0.1196 - val_loss: 0.1106\n",
            "Epoch 49/50\n",
            "1/1 - 0s - loss: 0.1183 - val_loss: 0.1140\n",
            "Epoch 50/50\n",
            "1/1 - 0s - loss: 0.1171 - val_loss: 0.1172\n"
          ],
          "name": "stdout"
        },
        {
          "output_type": "display_data",
          "data": {
            "image/png": "[encoded data removed]",
            "text/plain": [
              "<Figure size 432x288 with 1 Axes>"
            ]
          },
          "metadata": {
            "needs_background": "light"
          }
        }
      ]
    },
    {
      "cell_type": "code",
      "metadata": {
        "colab": {
          "base_uri": "https://localhost:8080/"
        },
        "id": "DRflBZ30Z-ei",
        "outputId": "8e2bbd79-6ba3-4301-aaa8-8aa1e4bd206d"
      },
      "source": [
        "test_X.shape"
      ],
      "execution_count": null,
      "outputs": [
        {
          "output_type": "execute_result",
          "data": {
            "text/plain": [
              "(12, 1, 12)"
            ]
          },
          "metadata": {},
          "execution_count": 203
        }
      ]
    },
    {
      "cell_type": "code",
      "metadata": {
        "colab": {
          "base_uri": "https://localhost:8080/"
        },
        "id": "4HijIICxheac",
        "outputId": "37b07ad7-9c66-46a2-ead1-4e3e81317a2d"
      },
      "source": [
        "# make a prediction\n",
        "print(test_X.shape)\n",
        "test_X = test_X.reshape((test_X.shape[0], 1, test_X.shape[2]))\n",
        "print(test_X.shape)"
      ],
      "execution_count": null,
      "outputs": [
        {
          "output_type": "stream",
          "text": [
            "(12, 1, 12)\n",
            "(12, 1, 12)\n"
          ],
          "name": "stdout"
        }
      ]
    },
    {
      "cell_type": "code",
      "metadata": {
        "colab": {
          "base_uri": "https://localhost:8080/"
        },
        "id": "dIPmGhtijIYe",
        "outputId": "37d6ac94-2490-436e-ed96-29f1de942128"
      },
      "source": [
        "yhat = model.predict(test_X)"
      ],
      "execution_count": null,
      "outputs": [
        {
          "output_type": "stream",
          "text": [
            "WARNING:tensorflow:AutoGraph could not transform <function Model.make_predict_function.<locals>.predict_function at 0x7f52ade90dd0> and will run it as-is.\n",
            "Please report this to the TensorFlow team. When filing the bug, set the verbosity to 10 (on Linux, `export AUTOGRAPH_VERBOSITY=10`) and attach the full output.\n",
            "Cause: list index out of range\n",
            "To silence this warning, decorate the function with @tf.autograph.experimental.do_not_convert\n",
            "WARNING: AutoGraph could not transform <function Model.make_predict_function.<locals>.predict_function at 0x7f52ade90dd0> and will run it as-is.\n",
            "Please report this to the TensorFlow team. When filing the bug, set the verbosity to 10 (on Linux, `export AUTOGRAPH_VERBOSITY=10`) and attach the full output.\n",
            "Cause: list index out of range\n",
            "To silence this warning, decorate the function with @tf.autograph.experimental.do_not_convert\n"
          ],
          "name": "stdout"
        }
      ]
    },
    {
      "cell_type": "code",
      "metadata": {
        "colab": {
          "base_uri": "https://localhost:8080/"
        },
        "id": "vHDCZ0R2nlPK",
        "outputId": "9d646d32-e237-466e-c742-db1a29456e6b"
      },
      "source": [
        "test_X = test_X.reshape((test_X.shape[0], test_X.shape[2]))\n",
        "test_X"
      ],
      "execution_count": null,
      "outputs": [
        {
          "output_type": "execute_result",
          "data": {
            "text/plain": [
              "array([[0.41250706, 0.6274543 , 0.48152637, 0.69461155, 0.69461155,\n",
              "        0.05704506, 0.71825314, 0.5983269 , 0.0526123 , 0.7142856 ,\n",
              "        0.37878895, 0.53846157],\n",
              "       [0.63602686, 0.5900607 , 0.5980077 , 0.5924001 , 0.5924001 ,\n",
              "        0.03080434, 0.56394887, 0.88586307, 0.        , 0.9464288 ,\n",
              "        0.21212101, 0.48717964],\n",
              "       [0.6692085 , 0.6608257 , 0.6039901 , 0.6620884 , 0.6620884 ,\n",
              "        0.08214489, 0.43616676, 0.5512788 , 0.        , 1.        ,\n",
              "        0.10606098, 0.56410265],\n",
              "       [0.59395504, 0.64303637, 0.68081474, 0.6440754 , 0.6440754 ,\n",
              "        0.04107245, 0.5720022 , 0.8285171 , 0.15789795, 0.5       ,\n",
              "        0.409091  , 0.7948719 ],\n",
              "       [0.5818558 , 0.71196747, 0.6886172 , 0.77369404, 0.77369404,\n",
              "        0.04677696, 0.8781929 , 0.84803724, 0.10528564, 0.5892856 ,\n",
              "        0.48484898, 0.53846157],\n",
              "       [0.7564635 , 0.8272095 , 0.84339   , 0.870646  , 0.870646  ,\n",
              "        0.08499715, 1.        , 0.6864541 , 0.        , 0.9464288 ,\n",
              "        0.19696999, 0.5128207 ],\n",
              "       [0.8573036 , 0.90073013, 0.97653913, 0.9038944 , 0.9038944 ,\n",
              "        0.06902453, 0.5551007 , 0.69580424, 0.0526123 , 0.55357146,\n",
              "        0.575758  , 0.43589747],\n",
              "       [0.8797121 , 0.9548197 , 0.9865136 , 1.        , 1.        ,\n",
              "        0.06959499, 0.14297962, 0.9808793 , 0.0526123 , 0.6607144 ,\n",
              "        0.53030396, 0.35897446],\n",
              "       [1.0000005 , 1.        , 0.9766464 , 0.8960557 , 0.8960557 ,\n",
              "        0.07758129, 0.49461246, 0.9244839 , 0.10528564, 0.5178571 ,\n",
              "        0.575758  , 0.48717964],\n",
              "       [0.790885  , 0.8741708 , 0.91692305, 0.8910794 , 0.8910794 ,\n",
              "        0.06617228, 0.47345114, 0.27818057, 0.        , 0.9821429 ,\n",
              "        0.409091  , 0.10256422],\n",
              "       [0.9030905 , 0.9090576 , 1.        , 0.95202017, 0.95202017,\n",
              "        0.06731319, 0.14970374, 0.8501289 , 0.0526123 , 0.80357146,\n",
              "        0.318182  , 0.5128207 ],\n",
              "       [0.86362886, 0.8642545 , 0.94975996, 0.913188  , 0.913188  ,\n",
              "        0.03023389, 0.63995004, 0.8002908 , 0.0526123 , 0.5892856 ,\n",
              "        0.469697  , 0.53846157]], dtype=float32)"
            ]
          },
          "metadata": {},
          "execution_count": 212
        }
      ]
    },
    {
      "cell_type": "code",
      "metadata": {
        "id": "dDfmM2NCnqG8"
      },
      "source": [
        "inv_yhat = np.concatenate((yhat, test_X[:, 1:]), axis=1)"
      ],
      "execution_count": null,
      "outputs": []
    },
    {
      "cell_type": "code",
      "metadata": {
        "id": "4wfXvEinoL49"
      },
      "source": [
        "inv_yhat = scaler.inverse_transform(inv_yhat)\n",
        "inv_yhat = inv_yhat[:,0]"
      ],
      "execution_count": null,
      "outputs": []
    },
    {
      "cell_type": "code",
      "metadata": {
        "colab": {
          "base_uri": "https://localhost:8080/"
        },
        "id": "_qMFcAZboQQc",
        "outputId": "0b66f53e-e8b3-4fd7-f353-ea2d9af77b56"
      },
      "source": [
        "test_Y = test_Y.reshape((len(test_Y), 1))\n",
        "test_Y"
      ],
      "execution_count": null,
      "outputs": [
        {
          "output_type": "execute_result",
          "data": {
            "text/plain": [
              "array([[0.5924001 ],\n",
              "       [0.6620884 ],\n",
              "       [0.6440754 ],\n",
              "       [0.77369404],\n",
              "       [0.870646  ],\n",
              "       [0.9038944 ],\n",
              "       [1.        ],\n",
              "       [0.8960557 ],\n",
              "       [0.8910794 ],\n",
              "       [0.95202017],\n",
              "       [0.913188  ],\n",
              "       [0.90472364]], dtype=float32)"
            ]
          },
          "metadata": {},
          "execution_count": 215
        }
      ]
    },
    {
      "cell_type": "code",
      "metadata": {
        "id": "9FxzDSNwoWjX"
      },
      "source": [
        "inv_y = np.concatenate((test_Y, test_X[:, 1:]), axis=1)"
      ],
      "execution_count": null,
      "outputs": []
    },
    {
      "cell_type": "code",
      "metadata": {
        "colab": {
          "base_uri": "https://localhost:8080/"
        },
        "id": "FLYe9jXGogEP",
        "outputId": "629e5120-610b-48c1-eee9-59de9e01eb3e"
      },
      "source": [
        "inv_y = scaler.inverse_transform(inv_y)\n",
        "inv_y = inv_y[:,0]\n",
        "# calculate RMSE\n",
        "rmse = sqrt(mean_squared_error(inv_y, inv_yhat))\n",
        "print('Test RMSE: %.3f' % rmse)"
      ],
      "execution_count": null,
      "outputs": [
        {
          "output_type": "stream",
          "text": [
            "Test RMSE: 762.167\n"
          ],
          "name": "stdout"
        }
      ]
    },
    {
      "cell_type": "code",
      "metadata": {
        "id": "NDFImGjxojwG"
      },
      "source": [
        ""
      ],
      "execution_count": null,
      "outputs": []
    }
  ]
}